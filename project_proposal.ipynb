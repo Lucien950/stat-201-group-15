{
 "cells": [
  {
   "cell_type": "markdown",
   "id": "f5c83fa8-0215-47ad-b577-d23cd829704b",
   "metadata": {
    "tags": []
   },
   "source": [
    "# STAT 201 Project Proposal"
   ]
  },
  {
   "cell_type": "markdown",
   "id": "df2b00e2-a83f-44fd-b60c-3697d93daa86",
   "metadata": {
    "tags": []
   },
   "source": [
    "## Introduction"
   ]
  },
  {
   "cell_type": "markdown",
   "id": "f0be7669-0b00-4862-8ce5-d6f23362e5cd",
   "metadata": {},
   "source": [
    "   In Canada, cancer is currently the leading cause of death annually with 2 in 5 people expected to be diagnosed once in their lifetime (Canadian Cancer Statistics, 2021). With that, gliomas are the most common malignant tumors in adults (Carrano, 2021). However, there exists certain genetic mutations that can increase the risk of cancer and enhance the progression of cancer in individuals such as the epidermal growth factor receptor (EGFR) (Xu, 2017). While EGFR mutations are known to increase risk of cancer, it is more commonly associated with lung cancer, therefore, it can be useful for clinical treatments and therapies to investigate whether a mutation in the EGFR gene impacts the severity of glioma tumors (Liu, 2020). Additionally, it has been reported that there are greater rates of incidence in men compared to women and the treatment of gliomas requires different approaches between men and women (Carrano, 2021). Hence, it is important to investigate whether there is a difference in the mean age of diagnosis between men and women to better tune screening ages accordingly. \n",
    "Thus, our two research questions are as follows: \n",
    "\n",
    "1) Do the proportion of patients with the most severe form of glioma, glioblastoma (GBM), differ in those with a EGFR mutation than those without?\n",
    "\n",
    "2) Is there a significant difference in the average age of diagnosis for gliomas between men and women? \n",
    "\n",
    "The dataset we will be using is the Glioma Grading Clinical and Mutation Features Dataset from the UCI Machine Learning Repository. The dataset contains 24 attributes however for our analysis we are only concerned with 4 of them. \n",
    "\n",
    "For the first question we will be looking at Grade and EGFR:\n",
    "    8) EGFR: Gene responsible for the production of the epidermal growth factor receptor (EGFR) (0 = not mutated, 1 = mutated)\n",
    "    24) Grade: Glioma class information (1 = glioblastoma (GBM), 0 = low grade glioma (LGG))\n",
    "\n",
    "For the second question we will be looking at Gender and Age_at_diagnosis:\n",
    "    1) Gender: (0 = male, 1 = female)\n",
    "    2) Age_at_diagnosis: age of individual at time of diagnosis in years\n"
   ]
  },
  {
   "cell_type": "markdown",
   "id": "74d694b5-956f-4616-a5a4-fe569dd82473",
   "metadata": {},
   "source": [
    "## Preliminary Results"
   ]
  },
  {
   "cell_type": "code",
   "execution_count": 1,
   "id": "597755aa-8341-4ab2-ba21-ccb20055f746",
   "metadata": {},
   "outputs": [
    {
     "name": "stderr",
     "output_type": "stream",
     "text": [
      "── \u001b[1mAttaching core tidyverse packages\u001b[22m ──────────────────────────────────────────────────────────────── tidyverse 2.0.0 ──\n",
      "\u001b[32m✔\u001b[39m \u001b[34mdplyr    \u001b[39m 1.1.2     \u001b[32m✔\u001b[39m \u001b[34mreadr    \u001b[39m 2.1.4\n",
      "\u001b[32m✔\u001b[39m \u001b[34mforcats  \u001b[39m 1.0.0     \u001b[32m✔\u001b[39m \u001b[34mstringr  \u001b[39m 1.5.0\n",
      "\u001b[32m✔\u001b[39m \u001b[34mggplot2  \u001b[39m 3.4.2     \u001b[32m✔\u001b[39m \u001b[34mtibble   \u001b[39m 3.2.1\n",
      "\u001b[32m✔\u001b[39m \u001b[34mlubridate\u001b[39m 1.9.2     \u001b[32m✔\u001b[39m \u001b[34mtidyr    \u001b[39m 1.3.0\n",
      "\u001b[32m✔\u001b[39m \u001b[34mpurrr    \u001b[39m 1.0.1     \n",
      "── \u001b[1mConflicts\u001b[22m ────────────────────────────────────────────────────────────────────────────────── tidyverse_conflicts() ──\n",
      "\u001b[31m✖\u001b[39m \u001b[34mdplyr\u001b[39m::\u001b[32mfilter()\u001b[39m masks \u001b[34mstats\u001b[39m::filter()\n",
      "\u001b[31m✖\u001b[39m \u001b[34mdplyr\u001b[39m::\u001b[32mlag()\u001b[39m    masks \u001b[34mstats\u001b[39m::lag()\n",
      "\u001b[36mℹ\u001b[39m Use the conflicted package (\u001b[3m\u001b[34m<http://conflicted.r-lib.org/>\u001b[39m\u001b[23m) to force all conflicts to become errors\n",
      "\n",
      "Attaching package: 'cowplot'\n",
      "\n",
      "\n",
      "The following object is masked from 'package:lubridate':\n",
      "\n",
      "    stamp\n",
      "\n",
      "\n"
     ]
    }
   ],
   "source": [
    "library(tidyverse)\n",
    "library(infer)\n",
    "library(cowplot)"
   ]
  },
  {
   "cell_type": "code",
   "execution_count": 2,
   "id": "0e6183c9-b6e4-4c50-8ec8-7d94670f15f1",
   "metadata": {},
   "outputs": [
    {
     "name": "stderr",
     "output_type": "stream",
     "text": [
      "\u001b[1mRows: \u001b[22m\u001b[34m839\u001b[39m \u001b[1mColumns: \u001b[22m\u001b[34m24\u001b[39m\n",
      "\u001b[36m──\u001b[39m \u001b[1mColumn specification\u001b[22m \u001b[36m────────────────────────────────────────────────────────────────────────────────────────────────\u001b[39m\n",
      "\u001b[1mDelimiter:\u001b[22m \",\"\n",
      "\u001b[32mdbl\u001b[39m (24): Grade, Gender, Age_at_diagnosis, Race, IDH1, TP53, ATRX, PTEN, EGF...\n",
      "\n",
      "\u001b[36mℹ\u001b[39m Use `spec()` to retrieve the full column specification for this data.\n",
      "\u001b[36mℹ\u001b[39m Specify the column types or set `show_col_types = FALSE` to quiet this message.\n"
     ]
    }
   ],
   "source": [
    "glioma <- read_csv(\"./TCGA_InfoWithGrade.csv\")"
   ]
  },
  {
   "cell_type": "markdown",
   "id": "7f6759a2-a34b-477f-b8e1-6b49ce56d332",
   "metadata": {},
   "source": [
    "### Explanation of the Datset\n",
    "The dataset is that of glioma patients. The clinical features are `Gender`, `Age_at_diagnosis` and `Race`, and there are a variety of binary features, whether a specific gene is mutated or not. The grade of the glioma is encoded in the `Grade` feature. A preview of the dataset is shown below."
   ]
  },
  {
   "cell_type": "code",
   "execution_count": 3,
   "id": "0863266f-9ff0-4375-af20-fb5e973de75e",
   "metadata": {},
   "outputs": [
    {
     "data": {
      "text/html": [
       "<table class=\"dataframe\">\n",
       "<caption>A tibble: 6 × 24</caption>\n",
       "<thead>\n",
       "\t<tr><th scope=col>Grade</th><th scope=col>Gender</th><th scope=col>Age_at_diagnosis</th><th scope=col>Race</th><th scope=col>IDH1</th><th scope=col>TP53</th><th scope=col>ATRX</th><th scope=col>PTEN</th><th scope=col>EGFR</th><th scope=col>CIC</th><th scope=col>⋯</th><th scope=col>FUBP1</th><th scope=col>RB1</th><th scope=col>NOTCH1</th><th scope=col>BCOR</th><th scope=col>CSMD3</th><th scope=col>SMARCA4</th><th scope=col>GRIN2A</th><th scope=col>IDH2</th><th scope=col>FAT4</th><th scope=col>PDGFRA</th></tr>\n",
       "\t<tr><th scope=col>&lt;dbl&gt;</th><th scope=col>&lt;dbl&gt;</th><th scope=col>&lt;dbl&gt;</th><th scope=col>&lt;dbl&gt;</th><th scope=col>&lt;dbl&gt;</th><th scope=col>&lt;dbl&gt;</th><th scope=col>&lt;dbl&gt;</th><th scope=col>&lt;dbl&gt;</th><th scope=col>&lt;dbl&gt;</th><th scope=col>&lt;dbl&gt;</th><th scope=col>⋯</th><th scope=col>&lt;dbl&gt;</th><th scope=col>&lt;dbl&gt;</th><th scope=col>&lt;dbl&gt;</th><th scope=col>&lt;dbl&gt;</th><th scope=col>&lt;dbl&gt;</th><th scope=col>&lt;dbl&gt;</th><th scope=col>&lt;dbl&gt;</th><th scope=col>&lt;dbl&gt;</th><th scope=col>&lt;dbl&gt;</th><th scope=col>&lt;dbl&gt;</th></tr>\n",
       "</thead>\n",
       "<tbody>\n",
       "\t<tr><td>0</td><td>0</td><td>51.30</td><td>0</td><td>1</td><td>0</td><td>0</td><td>0</td><td>0</td><td>0</td><td>⋯</td><td>1</td><td>0</td><td>0</td><td>0</td><td>0</td><td>0</td><td>0</td><td>0</td><td>0</td><td>0</td></tr>\n",
       "\t<tr><td>0</td><td>0</td><td>38.72</td><td>0</td><td>1</td><td>0</td><td>0</td><td>0</td><td>0</td><td>1</td><td>⋯</td><td>0</td><td>0</td><td>0</td><td>0</td><td>0</td><td>0</td><td>0</td><td>0</td><td>0</td><td>0</td></tr>\n",
       "\t<tr><td>0</td><td>0</td><td>35.17</td><td>0</td><td>1</td><td>1</td><td>1</td><td>0</td><td>0</td><td>0</td><td>⋯</td><td>0</td><td>0</td><td>0</td><td>0</td><td>0</td><td>0</td><td>0</td><td>0</td><td>0</td><td>0</td></tr>\n",
       "\t<tr><td>0</td><td>1</td><td>32.78</td><td>0</td><td>1</td><td>1</td><td>1</td><td>0</td><td>0</td><td>0</td><td>⋯</td><td>0</td><td>0</td><td>0</td><td>0</td><td>0</td><td>0</td><td>0</td><td>0</td><td>1</td><td>0</td></tr>\n",
       "\t<tr><td>0</td><td>0</td><td>31.51</td><td>0</td><td>1</td><td>1</td><td>1</td><td>0</td><td>0</td><td>0</td><td>⋯</td><td>0</td><td>0</td><td>0</td><td>0</td><td>0</td><td>0</td><td>0</td><td>0</td><td>0</td><td>0</td></tr>\n",
       "\t<tr><td>0</td><td>1</td><td>33.21</td><td>0</td><td>1</td><td>0</td><td>1</td><td>0</td><td>0</td><td>0</td><td>⋯</td><td>0</td><td>0</td><td>0</td><td>0</td><td>0</td><td>0</td><td>0</td><td>0</td><td>0</td><td>0</td></tr>\n",
       "</tbody>\n",
       "</table>\n"
      ],
      "text/latex": [
       "A tibble: 6 × 24\n",
       "\\begin{tabular}{lllllllllllllllllllll}\n",
       " Grade & Gender & Age\\_at\\_diagnosis & Race & IDH1 & TP53 & ATRX & PTEN & EGFR & CIC & ⋯ & FUBP1 & RB1 & NOTCH1 & BCOR & CSMD3 & SMARCA4 & GRIN2A & IDH2 & FAT4 & PDGFRA\\\\\n",
       " <dbl> & <dbl> & <dbl> & <dbl> & <dbl> & <dbl> & <dbl> & <dbl> & <dbl> & <dbl> & ⋯ & <dbl> & <dbl> & <dbl> & <dbl> & <dbl> & <dbl> & <dbl> & <dbl> & <dbl> & <dbl>\\\\\n",
       "\\hline\n",
       "\t 0 & 0 & 51.30 & 0 & 1 & 0 & 0 & 0 & 0 & 0 & ⋯ & 1 & 0 & 0 & 0 & 0 & 0 & 0 & 0 & 0 & 0\\\\\n",
       "\t 0 & 0 & 38.72 & 0 & 1 & 0 & 0 & 0 & 0 & 1 & ⋯ & 0 & 0 & 0 & 0 & 0 & 0 & 0 & 0 & 0 & 0\\\\\n",
       "\t 0 & 0 & 35.17 & 0 & 1 & 1 & 1 & 0 & 0 & 0 & ⋯ & 0 & 0 & 0 & 0 & 0 & 0 & 0 & 0 & 0 & 0\\\\\n",
       "\t 0 & 1 & 32.78 & 0 & 1 & 1 & 1 & 0 & 0 & 0 & ⋯ & 0 & 0 & 0 & 0 & 0 & 0 & 0 & 0 & 1 & 0\\\\\n",
       "\t 0 & 0 & 31.51 & 0 & 1 & 1 & 1 & 0 & 0 & 0 & ⋯ & 0 & 0 & 0 & 0 & 0 & 0 & 0 & 0 & 0 & 0\\\\\n",
       "\t 0 & 1 & 33.21 & 0 & 1 & 0 & 1 & 0 & 0 & 0 & ⋯ & 0 & 0 & 0 & 0 & 0 & 0 & 0 & 0 & 0 & 0\\\\\n",
       "\\end{tabular}\n"
      ],
      "text/markdown": [
       "\n",
       "A tibble: 6 × 24\n",
       "\n",
       "| Grade &lt;dbl&gt; | Gender &lt;dbl&gt; | Age_at_diagnosis &lt;dbl&gt; | Race &lt;dbl&gt; | IDH1 &lt;dbl&gt; | TP53 &lt;dbl&gt; | ATRX &lt;dbl&gt; | PTEN &lt;dbl&gt; | EGFR &lt;dbl&gt; | CIC &lt;dbl&gt; | ⋯ ⋯ | FUBP1 &lt;dbl&gt; | RB1 &lt;dbl&gt; | NOTCH1 &lt;dbl&gt; | BCOR &lt;dbl&gt; | CSMD3 &lt;dbl&gt; | SMARCA4 &lt;dbl&gt; | GRIN2A &lt;dbl&gt; | IDH2 &lt;dbl&gt; | FAT4 &lt;dbl&gt; | PDGFRA &lt;dbl&gt; |\n",
       "|---|---|---|---|---|---|---|---|---|---|---|---|---|---|---|---|---|---|---|---|---|\n",
       "| 0 | 0 | 51.30 | 0 | 1 | 0 | 0 | 0 | 0 | 0 | ⋯ | 1 | 0 | 0 | 0 | 0 | 0 | 0 | 0 | 0 | 0 |\n",
       "| 0 | 0 | 38.72 | 0 | 1 | 0 | 0 | 0 | 0 | 1 | ⋯ | 0 | 0 | 0 | 0 | 0 | 0 | 0 | 0 | 0 | 0 |\n",
       "| 0 | 0 | 35.17 | 0 | 1 | 1 | 1 | 0 | 0 | 0 | ⋯ | 0 | 0 | 0 | 0 | 0 | 0 | 0 | 0 | 0 | 0 |\n",
       "| 0 | 1 | 32.78 | 0 | 1 | 1 | 1 | 0 | 0 | 0 | ⋯ | 0 | 0 | 0 | 0 | 0 | 0 | 0 | 0 | 1 | 0 |\n",
       "| 0 | 0 | 31.51 | 0 | 1 | 1 | 1 | 0 | 0 | 0 | ⋯ | 0 | 0 | 0 | 0 | 0 | 0 | 0 | 0 | 0 | 0 |\n",
       "| 0 | 1 | 33.21 | 0 | 1 | 0 | 1 | 0 | 0 | 0 | ⋯ | 0 | 0 | 0 | 0 | 0 | 0 | 0 | 0 | 0 | 0 |\n",
       "\n"
      ],
      "text/plain": [
       "  Grade Gender Age_at_diagnosis Race IDH1 TP53 ATRX PTEN EGFR CIC ⋯ FUBP1 RB1\n",
       "1 0     0      51.30            0    1    0    0    0    0    0   ⋯ 1     0  \n",
       "2 0     0      38.72            0    1    0    0    0    0    1   ⋯ 0     0  \n",
       "3 0     0      35.17            0    1    1    1    0    0    0   ⋯ 0     0  \n",
       "4 0     1      32.78            0    1    1    1    0    0    0   ⋯ 0     0  \n",
       "5 0     0      31.51            0    1    1    1    0    0    0   ⋯ 0     0  \n",
       "6 0     1      33.21            0    1    0    1    0    0    0   ⋯ 0     0  \n",
       "  NOTCH1 BCOR CSMD3 SMARCA4 GRIN2A IDH2 FAT4 PDGFRA\n",
       "1 0      0    0     0       0      0    0    0     \n",
       "2 0      0    0     0       0      0    0    0     \n",
       "3 0      0    0     0       0      0    0    0     \n",
       "4 0      0    0     0       0      0    1    0     \n",
       "5 0      0    0     0       0      0    0    0     \n",
       "6 0      0    0     0       0      0    0    0     "
      ]
     },
     "metadata": {},
     "output_type": "display_data"
    }
   ],
   "source": [
    "head(glioma)"
   ]
  },
  {
   "cell_type": "markdown",
   "id": "5bb10d75-a597-4dbe-af97-30e4219ab092",
   "metadata": {},
   "source": [
    "### Variables of Interest\n",
    "In this study we are interested in two things:  \n",
    "1. Is there a difference in the proportions of patients with EGFR gene mutation between high grade and low grade groups?\n",
    "2. Is there something we can learn about the grade of glioma patients from their age at diagnosis?"
   ]
  },
  {
   "cell_type": "markdown",
   "id": "178820f3-4c99-4891-93e9-e72f4a5321d4",
   "metadata": {},
   "source": [
    "#### Patient Age at Diagnosis and Glioma Grade"
   ]
  },
  {
   "cell_type": "code",
   "execution_count": 4,
   "id": "0cf80025-89c5-469e-903e-ac1440d48238",
   "metadata": {},
   "outputs": [],
   "source": [
    "# Create a bootstrap distribution of mutated EGFR gene proportions of the low-grade glioma \n",
    "age_virtual_samples_0 <- glioma %>%\n",
    "    filter(Grade == 0) %>%\n",
    "    specify(response = Age_at_diagnosis) %>%\n",
    "    generate(type = 'bootstrap', reps = 10000) %>%\n",
    "    calculate(stat = 'mean') %>%\n",
    "    cbind(Grade = rep(0, 10000))\n",
    "\n",
    "# Create a bootstrap distribution of a mutated EGFR gene proportions of the high-grade glioma\n",
    "age_virtual_samples_1 <- glioma %>%\n",
    "    filter(Grade == 1) %>%\n",
    "    specify(response = Age_at_diagnosis) %>%\n",
    "    generate(type = 'bootstrap', reps = 10000) %>%\n",
    "    calculate(stat = 'mean') %>%\n",
    "    cbind(Grade = rep(1, 10000))\n",
    "\n",
    "# Combine the two bootstrap distributions into one dataframe \n",
    "age_virtual_samples <- rbind(age_virtual_samples_0, age_virtual_samples_1) %>%\n",
    "    mutate(Grade = as.factor(Grade))"
   ]
  },
  {
   "cell_type": "code",
   "execution_count": 5,
   "id": "a71c149f-b2fc-4432-b831-e5276475a001",
   "metadata": {},
   "outputs": [],
   "source": [
    "# Sample distribution plot of age at diagnosis\n",
    "age_sample_dist <- glioma %>%\n",
    "    filter(!is.na(Age_at_diagnosis)) %>%\n",
    "    mutate(Grade = as.factor(Grade)) %>%\n",
    "    ggplot() + \n",
    "    geom_histogram(aes(x = Age_at_diagnosis, fill = Grade, alpha = 0.75), bins = 39) + \n",
    "    xlab(\"Age of Diagnosis\") + \n",
    "    ggtitle(\"Sample Distribution of Age at Diagnosis of Glioma\") +\n",
    "    theme(text = element_text(size = 16))\n",
    "\n",
    "# Plot the resulting bootstrap distributions\n",
    "mean_age_bootstrap_dist <- age_virtual_samples %>%\n",
    "    ggplot() + \n",
    "    geom_histogram(aes(x = stat, fill = Grade), bins = 35) + \n",
    "    xlab(\"Mean Age at Diagnosis of Bootstrap Samples\") + \n",
    "    ggtitle(\"Bootstrap Distribution of Age at Diagnosis by Glioma Grade\") + \n",
    "    theme(text = element_text(size = 16))"
   ]
  },
  {
   "cell_type": "code",
   "execution_count": 6,
   "id": "816bc5d8-f2c8-4c45-ac5c-7086affb0621",
   "metadata": {},
   "outputs": [
    {
     "data": {
      "image/png": "[encoded data removed]",
      "text/plain": [
       "plot without title"
      ]
     },
     "metadata": {
      "image/png": {
       "height": 420,
       "width": 960
      }
     },
     "output_type": "display_data"
    }
   ],
   "source": [
    "options(repr.plot.width = 16)\n",
    "plot_grid(age_sample_dist, mean_age_bootstrap_dist, labels = c('A', 'B'), label_size = 24)"
   ]
  },
  {
   "cell_type": "markdown",
   "id": "aa494dcc-d88e-4131-b859-d3c2cfa38ccd",
   "metadata": {},
   "source": [
    "**Figure 1A:** The sample distribution of patients ages at the time of glioma diagnosis as encoded in the `Age_at_diagnosis` feature. The histograms are color coded by the glioma grade, where the red histogram indicates low grade glioma, and the cyan histogram displays the distribution of high grade glioma. The purpose of this visualization is to explore whether the sample distribution of patient age at diagnosis reveals anything about their glioma grade. For example, patients diagnosed at a later age may have a higher grade glioma. The distribution has quite a wide range, ranging from about 12 to over 85 years of age. We see majority of the high-grade glioma diagnoses are on the higher end of the distribution, whereas the lower grade gliomas are spread across in what seems to be a bimodal distribution.  \n",
    "**Figure 1B:** The bootstrap distribution of patients mean age taken from 10,000 bootstrap samples. The mean age of diagnosis for patients with low grade glioma seems to be around 44, and the mean age of diagnosis for high grade glioma patients is around 61. "
   ]
  },
  {
   "cell_type": "markdown",
   "id": "43be313d-7661-4b6a-b2bc-44c576e72c92",
   "metadata": {},
   "source": [
    "#### EGFR Mutation Proportions and Glioma Grade"
   ]
  },
  {
   "cell_type": "code",
   "execution_count": 7,
   "id": "2c72a483-58f1-4404-974b-1d3e1739fee8",
   "metadata": {},
   "outputs": [],
   "source": [
    "# Create a bootstrap distribution of mutated EGFR gene proportions \n",
    "egfr_virtual_bootstrap_dist <- glioma %>%\n",
    "    mutate(EGFR = as.factor(EGFR)) %>%\n",
    "    specify(response = EGFR, success = '1') %>%\n",
    "    generate(type = 'bootstrap', reps = 10000) %>%\n",
    "    calculate(stat = 'prop') \n",
    "\n",
    "# Create a bootstrap distribution of mutated EGFR gene proportions of the low-grade glioma \n",
    "egfr_virtual_samples_0 <- glioma %>%\n",
    "    filter(Grade == 0) %>%\n",
    "    mutate(EGFR = as.factor(EGFR)) %>%\n",
    "    specify(response = EGFR, success = '1') %>%\n",
    "    generate(type = 'bootstrap', reps = 10000) %>%\n",
    "    calculate(stat = 'prop') %>%\n",
    "    cbind(Grade = rep(0, 10000))\n",
    "\n",
    "# Create a bootstrap distribution of a mutated EGFR gene proportions of the high-grade glioma\n",
    "egfr_virtual_samples_1 <- glioma %>%\n",
    "    filter(Grade == 1) %>%\n",
    "    mutate(EGFR = as.factor(EGFR)) %>%\n",
    "    specify(response = EGFR, success = '1') %>%\n",
    "    generate(type = 'bootstrap', reps = 10000) %>%\n",
    "    calculate(stat = 'prop') %>%\n",
    "    cbind(Grade = rep(1, 10000))\n",
    "\n",
    "# Combine the two bootstrap distributions into one dataframe \n",
    "egfr_virtual_samples_by_label <- rbind(egfr_virtual_samples_0, egfr_virtual_samples_1) %>%\n",
    "    mutate(Grade = as.factor(Grade))"
   ]
  },
  {
   "cell_type": "code",
   "execution_count": 8,
   "id": "c292e21b-2e75-4c6c-9209-258baadee34d",
   "metadata": {},
   "outputs": [],
   "source": [
    "# The plot of bootstrap samples by label\n",
    "plot_by_label <- egfr_virtual_samples_by_label %>%\n",
    "    ggplot() + \n",
    "    geom_histogram(aes(x = stat, fill = Grade), bins = 40) + \n",
    "    xlab(\"Proportion of EGFR Mutations of Bootstrap Samples\") + \n",
    "    ggtitle(\"Bootstrap Distribution of EGFR Mutation Proportions by Glioma Grade\") + \n",
    "    theme(text = element_text(size = 16))\n",
    "\n",
    "# The plot of bootstrap samples holistically \n",
    "plot_entire <- egfr_virtual_bootstrap_dist %>%\n",
    "    ggplot() + \n",
    "    geom_histogram(aes(x = stat), bins = 40) + \n",
    "    xlab(\"Proportion of EGFR Mutations of Bootstrap Samples\") + \n",
    "    ggtitle(\"Bootstrap Distribution of EGFR Mutation Proportions by Glioma Grade\") + \n",
    "    theme(text = element_text(size = 16))"
   ]
  },
  {
   "cell_type": "code",
   "execution_count": 9,
   "id": "73e66ae9-cbbd-4f17-9793-e7c9b710cafc",
   "metadata": {},
   "outputs": [
    {
     "data": {
      "image/png": "[encoded data removed]",
      "text/plain": [
       "plot without title"
      ]
     },
     "metadata": {
      "image/png": {
       "height": 420,
       "width": 960
      }
     },
     "output_type": "display_data"
    }
   ],
   "source": [
    "# Plot by grid\n",
    "plot_grid(plot_entire, plot_by_label, labels = c('A', 'B'), label_size = 24) "
   ]
  },
  {
   "cell_type": "markdown",
   "id": "b247a4ce-2133-4922-a94c-955091f0f9f2",
   "metadata": {},
   "source": [
    "**Figure 2A:** The bootstrap distribution of proportions of EGFR mutations in glioma patients. The mean is around 14%, with approximately 14% of glioma patients have an EGFR gene mutation.  \n",
    "**Figure 2B:** The bootstrap distribution of proportions of EGFR mutations in low grade vs high grade glioma patients. The mean for low-grade glioma patients is roughly 7%, and the mean for high-grade glioma patients is roughly 24%. This may suggest that EGFR mutations are associated with higher-grade glioma."
   ]
  },
  {
   "cell_type": "markdown",
   "id": "3ac76bb4-e0f7-499a-9d75-6236579ed4b8",
   "metadata": {},
   "source": [
    "### Test Statistic Summary"
   ]
  },
  {
   "cell_type": "code",
   "execution_count": 10,
   "id": "20a68d29-a0e8-4bfa-b9c7-48f8104cc44d",
   "metadata": {},
   "outputs": [],
   "source": [
    "egfr_bootstrap_mean_0 <- mean(egfr_virtual_samples_0$stat)\n",
    "egfr_bootstrap_mean_1 <- mean(egfr_virtual_samples_1$stat)\n",
    "age_bootstrap_mean_0 <- mean(age_virtual_samples_0$stat)\n",
    "age_bootstrap_mean_1 <- mean(age_virtual_samples_1$stat)"
   ]
  },
  {
   "cell_type": "code",
   "execution_count": 11,
   "id": "23fa671b-cfe2-4e92-ad8a-9e6dd4d360bb",
   "metadata": {},
   "outputs": [
    {
     "data": {
      "text/html": [
       "<table class=\"dataframe\">\n",
       "<caption>A data.frame: 2 × 2</caption>\n",
       "<thead>\n",
       "\t<tr><th></th><th scope=col>Low-grade Glioma Patients</th><th scope=col>High-grade Glioma Patients</th></tr>\n",
       "\t<tr><th></th><th scope=col>&lt;dbl&gt;</th><th scope=col>&lt;dbl&gt;</th></tr>\n",
       "</thead>\n",
       "<tbody>\n",
       "\t<tr><th scope=row>Proportion EGFR Mutated (p)</th><td> 0.06371889</td><td> 0.2297409</td></tr>\n",
       "\t<tr><th scope=row>Age of Diagnosis (a)</th><td>43.87347048</td><td>60.7068373</td></tr>\n",
       "</tbody>\n",
       "</table>\n"
      ],
      "text/latex": [
       "A data.frame: 2 × 2\n",
       "\\begin{tabular}{r|ll}\n",
       "  & Low-grade Glioma Patients & High-grade Glioma Patients\\\\\n",
       "  & <dbl> & <dbl>\\\\\n",
       "\\hline\n",
       "\tProportion EGFR Mutated (p) &  0.06371889 &  0.2297409\\\\\n",
       "\tAge of Diagnosis (a) & 43.87347048 & 60.7068373\\\\\n",
       "\\end{tabular}\n"
      ],
      "text/markdown": [
       "\n",
       "A data.frame: 2 × 2\n",
       "\n",
       "| <!--/--> | Low-grade Glioma Patients &lt;dbl&gt; | High-grade Glioma Patients &lt;dbl&gt; |\n",
       "|---|---|---|\n",
       "| Proportion EGFR Mutated (p) |  0.06371889 |  0.2297409 |\n",
       "| Age of Diagnosis (a) | 43.87347048 | 60.7068373 |\n",
       "\n"
      ],
      "text/plain": [
       "                            Low-grade Glioma Patients\n",
       "Proportion EGFR Mutated (p)  0.06371889              \n",
       "Age of Diagnosis (a)        43.87347048              \n",
       "                            High-grade Glioma Patients\n",
       "Proportion EGFR Mutated (p)  0.2297409                \n",
       "Age of Diagnosis (a)        60.7068373                "
      ]
     },
     "metadata": {},
     "output_type": "display_data"
    }
   ],
   "source": [
    "summary.stat.table <- tibble(\n",
    "    \"Low-grade Glioma Patients\" = c(egfr_bootstrap_mean_0, age_bootstrap_mean_0),\n",
    "    \"High-grade Glioma Patients\" = c(egfr_bootstrap_mean_1, age_bootstrap_mean_1), \n",
    "    \"Rownames\" = c(\"Proportion EGFR Mutated (p)\", \"Age of Diagnosis (a)\")\n",
    "    )\n",
    "summary.stat.table <- summary.stat.table %>%\n",
    "    column_to_rownames(., var = 'Rownames')\n",
    "summary.stat.table"
   ]
  },
  {
   "cell_type": "markdown",
   "id": "6d5a151d-535d-4c5e-aacf-afa1d56cb219",
   "metadata": {},
   "source": [
    "At first glance, it seems there is a difference between the low-grade and high-grade glioma patients. To confirm, we will perform hypothesis testing with the following null hypotheses:  \n",
    "Test one: the proportion of patients with EGFR mutations, $p$:  \n",
    "* $H_0$: $p_{low-grade} = p_{high-grade}$  \n",
    "* $H_A$: $p_{low-grade} \\neq p_{high-grade}$  \n",
    "\n",
    "Test two: the age of diagnosis, $a$:\n",
    "* $H_0$: $a_{low-grade} = a_{high-grade}$\n",
    "* $H_A$: $a_{low-grade} \\neq a_{high-grade}$"
   ]
  },
  {
   "cell_type": "markdown",
   "id": "33571f64-27f6-4c85-bd56-74f946620666",
   "metadata": {},
   "source": [
    "## Methods"
   ]
  },
  {
   "cell_type": "markdown",
   "id": "7f63337e-e939-4723-be9d-9fe7be380ccd",
   "metadata": {},
   "source": [
    "## References"
   ]
  },
  {
   "cell_type": "markdown",
   "id": "fee75173-6ac7-404c-b683-46ce2fdaa3ab",
   "metadata": {},
   "source": [
    "Carrano, Anna, et al. “Sex-Specific Differences in Glioblastoma.” Cells, vol. 10, no. 7, 2021, p. 1783, https://doi.org/10.3390/cells10071783. \n",
    "\n",
    "Liu, Haijing, et al. “Spectrum of EGFR Aberrations and Potential Clinical Implications: Insights from Integrative Pan‐cancer Analysis.” Cancer Communications, vol. 40, no. 1, 2020, pp. 43–59, https://doi.org/10.1002/cac2.12005. \n",
    "\n",
    "“Release Notice - Canadian Cancer Statistics 2021.” Health Promotion and Chronic Disease Prevention in Canada, vol. 41, no. 11, 2021, pp. 399–399, https://doi.org/10.24095/hpcdp.41.11.09. \n",
    "\n",
    "Xu, Hongsheng, et al. “Epidermal Growth Factor Receptor in Glioblastoma.” Oncology Letters, vol. 14, no. 1, 2017, pp. 512–516, https://doi.org/10.3892/ol.2017.6221. \n"
   ]
  },
  {
   "cell_type": "code",
   "execution_count": null,
   "id": "aa9152c0-7e0d-48ec-9d38-2e05317e5316",
   "metadata": {},
   "outputs": [],
   "source": []
  }
 ],
 "metadata": {
  "kernelspec": {
   "display_name": "R",
   "language": "R",
   "name": "ir"
  },
  "language_info": {
   "codemirror_mode": "r",
   "file_extension": ".r",
   "mimetype": "text/x-r-source",
   "name": "R",
   "pygments_lexer": "r",
   "version": "4.2.3"
  }
 },
 "nbformat": 4,
 "nbformat_minor": 5
}
