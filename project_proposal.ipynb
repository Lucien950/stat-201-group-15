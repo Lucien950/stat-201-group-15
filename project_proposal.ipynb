{
 "cells": [
  {
   "cell_type": "markdown",
   "id": "f5c83fa8-0215-47ad-b577-d23cd829704b",
   "metadata": {
    "tags": []
   },
   "source": [
    "# STAT 201 Project Proposal"
   ]
  },
  {
   "cell_type": "markdown",
   "id": "df2b00e2-a83f-44fd-b60c-3697d93daa86",
   "metadata": {
    "tags": []
   },
   "source": [
    "## Introduction"
   ]
  },
  {
   "cell_type": "markdown",
   "id": "f0be7669-0b00-4862-8ce5-d6f23362e5cd",
   "metadata": {},
   "source": [
    "In Canada, cancer is currently the leading cause of death annually with 2 in 5 people expected to be diagnosed once in their lifetime (Canadian Cancer Statistics, 2021), and gliomas being the most common malignant tumors in adults (Carrano, 2021). There exists certain genetic mutations that can increase the risk of cancer, accelerating cancer progression, such as the epidermal growth factor receptor (EGFR) (Xu, 2017). As EGFR mutations are more commonly associated with lung cancer, investigating the impacts of EGFR gene mutations on the severity of gliomas may also be useful for other clinical treatments and therapies (Liu, 2020). Another factor commonly associated to prognosis is the age of diagnosis. Therefore our interests are two-fold:\n",
    "\n",
    "1) Do the proportion of patients with the EGFR mutation differ between those with glioblastoma (GBM) and low grade glioma (LGG)?\n",
    "\n",
    "2) Is there a significant difference in the average age of diagnosis for individuals with glioblastoma (GBM) and low grade glioma (LGG)?\n",
    "\n",
    "The dataset we will be using is the Glioma Grading Clinical and Mutation Features Dataset from the UCI Machine Learning Repository. For our purposes, we are interested in the following features. \n",
    "\n",
    "For the first question:\n",
    "  \n",
    "* `EGFR`: Gene responsible for the production of the epidermal growth factor receptor (EGFR) (0 = not mutated, 1 = mutated)\n",
    "* `Grade`: Glioma class information (1 = glioblastoma (GBM), 0 = low grade glioma (LGG))\n",
    "\n",
    "For the second question:\n",
    "\n",
    "* `Age_at_diagnosis`: age of individual at time of diagnosis in years\n",
    "* `Grade`: Glioma class information (1 = glioblastoma (GBM), 0 = low grade glioma (LGG))\n"
   ]
  },
  {
   "cell_type": "markdown",
   "id": "74d694b5-956f-4616-a5a4-fe569dd82473",
   "metadata": {
    "jp-MarkdownHeadingCollapsed": true,
    "tags": []
   },
   "source": [
    "## Preliminary Results"
   ]
  },
  {
   "cell_type": "code",
   "execution_count": 1,
   "id": "597755aa-8341-4ab2-ba21-ccb20055f746",
   "metadata": {
    "vscode": {
     "languageId": "r"
    }
   },
   "outputs": [
    {
     "name": "stderr",
     "output_type": "stream",
     "text": [
      "── \u001b[1mAttaching packages\u001b[22m ─────────────────────────────────────── tidyverse 1.3.2 ──\n",
      "\u001b[32m✔\u001b[39m \u001b[34mggplot2\u001b[39m 3.3.6      \u001b[32m✔\u001b[39m \u001b[34mpurrr  \u001b[39m 0.3.5 \n",
      "\u001b[32m✔\u001b[39m \u001b[34mtibble \u001b[39m 3.1.8      \u001b[32m✔\u001b[39m \u001b[34mdplyr  \u001b[39m 1.0.10\n",
      "\u001b[32m✔\u001b[39m \u001b[34mtidyr  \u001b[39m 1.2.1      \u001b[32m✔\u001b[39m \u001b[34mstringr\u001b[39m 1.4.1 \n",
      "\u001b[32m✔\u001b[39m \u001b[34mreadr  \u001b[39m 2.1.3      \u001b[32m✔\u001b[39m \u001b[34mforcats\u001b[39m 0.5.2 \n",
      "── \u001b[1mConflicts\u001b[22m ────────────────────────────────────────── tidyverse_conflicts() ──\n",
      "\u001b[31m✖\u001b[39m \u001b[34mdplyr\u001b[39m::\u001b[32mfilter()\u001b[39m masks \u001b[34mstats\u001b[39m::filter()\n",
      "\u001b[31m✖\u001b[39m \u001b[34mdplyr\u001b[39m::\u001b[32mlag()\u001b[39m    masks \u001b[34mstats\u001b[39m::lag()\n",
      "Warning message:\n",
      "\"package 'cowplot' was built under R version 4.2.2\"\n"
     ]
    }
   ],
   "source": [
    "library(tidyverse)\n",
    "library(infer)\n",
    "library(cowplot)\n",
    "library(stringr)\n",
    "library(broom)"
   ]
  },
  {
   "cell_type": "code",
   "execution_count": 2,
   "id": "0e6183c9-b6e4-4c50-8ec8-7d94670f15f1",
   "metadata": {
    "vscode": {
     "languageId": "r"
    }
   },
   "outputs": [
    {
     "name": "stderr",
     "output_type": "stream",
     "text": [
      "\u001b[1mRows: \u001b[22m\u001b[34m839\u001b[39m \u001b[1mColumns: \u001b[22m\u001b[34m24\u001b[39m\n",
      "\u001b[36m──\u001b[39m \u001b[1mColumn specification\u001b[22m \u001b[36m────────────────────────────────────────────────────────\u001b[39m\n",
      "\u001b[1mDelimiter:\u001b[22m \",\"\n",
      "\u001b[32mdbl\u001b[39m (24): Grade, Gender, Age_at_diagnosis, Race, IDH1, TP53, ATRX, PTEN, EGF...\n",
      "\n",
      "\u001b[36mℹ\u001b[39m Use `spec()` to retrieve the full column specification for this data.\n",
      "\u001b[36mℹ\u001b[39m Specify the column types or set `show_col_types = FALSE` to quiet this message.\n"
     ]
    }
   ],
   "source": [
    "glioma_raw <- read_csv(\"https://raw.githubusercontent.com/Lucien950/stat-201-group-15/main/TCGA_InfoWithGrade.csv\")"
   ]
  },
  {
   "cell_type": "markdown",
   "id": "7f6759a2-a34b-477f-b8e1-6b49ce56d332",
   "metadata": {},
   "source": [
    "### Explanation of the Datset\n",
    "The dataset is that of glioma patients. The clinical features are `Gender`, `Age_at_diagnosis` and `Race`, and there are a variety of binary features, whether a specific gene is mutated or not. The grade of the glioma is encoded in the `Grade` feature. A preview of the dataset is shown below."
   ]
  },
  {
   "cell_type": "code",
   "execution_count": 3,
   "id": "0863266f-9ff0-4375-af20-fb5e973de75e",
   "metadata": {
    "vscode": {
     "languageId": "r"
    }
   },
   "outputs": [
    {
     "data": {
      "text/html": [
       "<table class=\"dataframe\">\n",
       "<caption>A tibble: 6 × 24</caption>\n",
       "<thead>\n",
       "\t<tr><th scope=col>Grade</th><th scope=col>Gender</th><th scope=col>Age_at_diagnosis</th><th scope=col>Race</th><th scope=col>IDH1</th><th scope=col>TP53</th><th scope=col>ATRX</th><th scope=col>PTEN</th><th scope=col>EGFR</th><th scope=col>CIC</th><th scope=col>⋯</th><th scope=col>FUBP1</th><th scope=col>RB1</th><th scope=col>NOTCH1</th><th scope=col>BCOR</th><th scope=col>CSMD3</th><th scope=col>SMARCA4</th><th scope=col>GRIN2A</th><th scope=col>IDH2</th><th scope=col>FAT4</th><th scope=col>PDGFRA</th></tr>\n",
       "\t<tr><th scope=col>&lt;dbl&gt;</th><th scope=col>&lt;dbl&gt;</th><th scope=col>&lt;dbl&gt;</th><th scope=col>&lt;dbl&gt;</th><th scope=col>&lt;dbl&gt;</th><th scope=col>&lt;dbl&gt;</th><th scope=col>&lt;dbl&gt;</th><th scope=col>&lt;dbl&gt;</th><th scope=col>&lt;dbl&gt;</th><th scope=col>&lt;dbl&gt;</th><th scope=col>⋯</th><th scope=col>&lt;dbl&gt;</th><th scope=col>&lt;dbl&gt;</th><th scope=col>&lt;dbl&gt;</th><th scope=col>&lt;dbl&gt;</th><th scope=col>&lt;dbl&gt;</th><th scope=col>&lt;dbl&gt;</th><th scope=col>&lt;dbl&gt;</th><th scope=col>&lt;dbl&gt;</th><th scope=col>&lt;dbl&gt;</th><th scope=col>&lt;dbl&gt;</th></tr>\n",
       "</thead>\n",
       "<tbody>\n",
       "\t<tr><td>0</td><td>0</td><td>51.30</td><td>0</td><td>1</td><td>0</td><td>0</td><td>0</td><td>0</td><td>0</td><td>⋯</td><td>1</td><td>0</td><td>0</td><td>0</td><td>0</td><td>0</td><td>0</td><td>0</td><td>0</td><td>0</td></tr>\n",
       "\t<tr><td>0</td><td>0</td><td>38.72</td><td>0</td><td>1</td><td>0</td><td>0</td><td>0</td><td>0</td><td>1</td><td>⋯</td><td>0</td><td>0</td><td>0</td><td>0</td><td>0</td><td>0</td><td>0</td><td>0</td><td>0</td><td>0</td></tr>\n",
       "\t<tr><td>0</td><td>0</td><td>35.17</td><td>0</td><td>1</td><td>1</td><td>1</td><td>0</td><td>0</td><td>0</td><td>⋯</td><td>0</td><td>0</td><td>0</td><td>0</td><td>0</td><td>0</td><td>0</td><td>0</td><td>0</td><td>0</td></tr>\n",
       "\t<tr><td>0</td><td>1</td><td>32.78</td><td>0</td><td>1</td><td>1</td><td>1</td><td>0</td><td>0</td><td>0</td><td>⋯</td><td>0</td><td>0</td><td>0</td><td>0</td><td>0</td><td>0</td><td>0</td><td>0</td><td>1</td><td>0</td></tr>\n",
       "\t<tr><td>0</td><td>0</td><td>31.51</td><td>0</td><td>1</td><td>1</td><td>1</td><td>0</td><td>0</td><td>0</td><td>⋯</td><td>0</td><td>0</td><td>0</td><td>0</td><td>0</td><td>0</td><td>0</td><td>0</td><td>0</td><td>0</td></tr>\n",
       "\t<tr><td>0</td><td>1</td><td>33.21</td><td>0</td><td>1</td><td>0</td><td>1</td><td>0</td><td>0</td><td>0</td><td>⋯</td><td>0</td><td>0</td><td>0</td><td>0</td><td>0</td><td>0</td><td>0</td><td>0</td><td>0</td><td>0</td></tr>\n",
       "</tbody>\n",
       "</table>\n"
      ],
      "text/latex": [
       "A tibble: 6 × 24\n",
       "\\begin{tabular}{lllllllllllllllllllll}\n",
       " Grade & Gender & Age\\_at\\_diagnosis & Race & IDH1 & TP53 & ATRX & PTEN & EGFR & CIC & ⋯ & FUBP1 & RB1 & NOTCH1 & BCOR & CSMD3 & SMARCA4 & GRIN2A & IDH2 & FAT4 & PDGFRA\\\\\n",
       " <dbl> & <dbl> & <dbl> & <dbl> & <dbl> & <dbl> & <dbl> & <dbl> & <dbl> & <dbl> & ⋯ & <dbl> & <dbl> & <dbl> & <dbl> & <dbl> & <dbl> & <dbl> & <dbl> & <dbl> & <dbl>\\\\\n",
       "\\hline\n",
       "\t 0 & 0 & 51.30 & 0 & 1 & 0 & 0 & 0 & 0 & 0 & ⋯ & 1 & 0 & 0 & 0 & 0 & 0 & 0 & 0 & 0 & 0\\\\\n",
       "\t 0 & 0 & 38.72 & 0 & 1 & 0 & 0 & 0 & 0 & 1 & ⋯ & 0 & 0 & 0 & 0 & 0 & 0 & 0 & 0 & 0 & 0\\\\\n",
       "\t 0 & 0 & 35.17 & 0 & 1 & 1 & 1 & 0 & 0 & 0 & ⋯ & 0 & 0 & 0 & 0 & 0 & 0 & 0 & 0 & 0 & 0\\\\\n",
       "\t 0 & 1 & 32.78 & 0 & 1 & 1 & 1 & 0 & 0 & 0 & ⋯ & 0 & 0 & 0 & 0 & 0 & 0 & 0 & 0 & 1 & 0\\\\\n",
       "\t 0 & 0 & 31.51 & 0 & 1 & 1 & 1 & 0 & 0 & 0 & ⋯ & 0 & 0 & 0 & 0 & 0 & 0 & 0 & 0 & 0 & 0\\\\\n",
       "\t 0 & 1 & 33.21 & 0 & 1 & 0 & 1 & 0 & 0 & 0 & ⋯ & 0 & 0 & 0 & 0 & 0 & 0 & 0 & 0 & 0 & 0\\\\\n",
       "\\end{tabular}\n"
      ],
      "text/markdown": [
       "\n",
       "A tibble: 6 × 24\n",
       "\n",
       "| Grade &lt;dbl&gt; | Gender &lt;dbl&gt; | Age_at_diagnosis &lt;dbl&gt; | Race &lt;dbl&gt; | IDH1 &lt;dbl&gt; | TP53 &lt;dbl&gt; | ATRX &lt;dbl&gt; | PTEN &lt;dbl&gt; | EGFR &lt;dbl&gt; | CIC &lt;dbl&gt; | ⋯ ⋯ | FUBP1 &lt;dbl&gt; | RB1 &lt;dbl&gt; | NOTCH1 &lt;dbl&gt; | BCOR &lt;dbl&gt; | CSMD3 &lt;dbl&gt; | SMARCA4 &lt;dbl&gt; | GRIN2A &lt;dbl&gt; | IDH2 &lt;dbl&gt; | FAT4 &lt;dbl&gt; | PDGFRA &lt;dbl&gt; |\n",
       "|---|---|---|---|---|---|---|---|---|---|---|---|---|---|---|---|---|---|---|---|---|\n",
       "| 0 | 0 | 51.30 | 0 | 1 | 0 | 0 | 0 | 0 | 0 | ⋯ | 1 | 0 | 0 | 0 | 0 | 0 | 0 | 0 | 0 | 0 |\n",
       "| 0 | 0 | 38.72 | 0 | 1 | 0 | 0 | 0 | 0 | 1 | ⋯ | 0 | 0 | 0 | 0 | 0 | 0 | 0 | 0 | 0 | 0 |\n",
       "| 0 | 0 | 35.17 | 0 | 1 | 1 | 1 | 0 | 0 | 0 | ⋯ | 0 | 0 | 0 | 0 | 0 | 0 | 0 | 0 | 0 | 0 |\n",
       "| 0 | 1 | 32.78 | 0 | 1 | 1 | 1 | 0 | 0 | 0 | ⋯ | 0 | 0 | 0 | 0 | 0 | 0 | 0 | 0 | 1 | 0 |\n",
       "| 0 | 0 | 31.51 | 0 | 1 | 1 | 1 | 0 | 0 | 0 | ⋯ | 0 | 0 | 0 | 0 | 0 | 0 | 0 | 0 | 0 | 0 |\n",
       "| 0 | 1 | 33.21 | 0 | 1 | 0 | 1 | 0 | 0 | 0 | ⋯ | 0 | 0 | 0 | 0 | 0 | 0 | 0 | 0 | 0 | 0 |\n",
       "\n"
      ],
      "text/plain": [
       "  Grade Gender Age_at_diagnosis Race IDH1 TP53 ATRX PTEN EGFR CIC ⋯ FUBP1 RB1\n",
       "1 0     0      51.30            0    1    0    0    0    0    0   ⋯ 1     0  \n",
       "2 0     0      38.72            0    1    0    0    0    0    1   ⋯ 0     0  \n",
       "3 0     0      35.17            0    1    1    1    0    0    0   ⋯ 0     0  \n",
       "4 0     1      32.78            0    1    1    1    0    0    0   ⋯ 0     0  \n",
       "5 0     0      31.51            0    1    1    1    0    0    0   ⋯ 0     0  \n",
       "6 0     1      33.21            0    1    0    1    0    0    0   ⋯ 0     0  \n",
       "  NOTCH1 BCOR CSMD3 SMARCA4 GRIN2A IDH2 FAT4 PDGFRA\n",
       "1 0      0    0     0       0      0    0    0     \n",
       "2 0      0    0     0       0      0    0    0     \n",
       "3 0      0    0     0       0      0    0    0     \n",
       "4 0      0    0     0       0      0    1    0     \n",
       "5 0      0    0     0       0      0    0    0     \n",
       "6 0      0    0     0       0      0    0    0     "
      ]
     },
     "metadata": {},
     "output_type": "display_data"
    }
   ],
   "source": [
    "head(glioma_raw)"
   ]
  },
  {
   "cell_type": "markdown",
   "id": "eb4601a6",
   "metadata": {},
   "source": [
    "### Data Cleaning"
   ]
  },
  {
   "cell_type": "code",
   "execution_count": 4,
   "id": "046c720f",
   "metadata": {
    "vscode": {
     "languageId": "r"
    }
   },
   "outputs": [
    {
     "data": {
      "text/html": [
       "<table class=\"dataframe\">\n",
       "<caption>A tibble: 6 × 4</caption>\n",
       "<thead>\n",
       "\t<tr><th scope=col>Grade</th><th scope=col>Gender</th><th scope=col>Age_at_diagnosis</th><th scope=col>EGFR</th></tr>\n",
       "\t<tr><th scope=col>&lt;dbl&gt;</th><th scope=col>&lt;dbl&gt;</th><th scope=col>&lt;dbl&gt;</th><th scope=col>&lt;dbl&gt;</th></tr>\n",
       "</thead>\n",
       "<tbody>\n",
       "\t<tr><td>0</td><td>0</td><td>51.30</td><td>0</td></tr>\n",
       "\t<tr><td>0</td><td>0</td><td>38.72</td><td>0</td></tr>\n",
       "\t<tr><td>0</td><td>0</td><td>35.17</td><td>0</td></tr>\n",
       "\t<tr><td>0</td><td>1</td><td>32.78</td><td>0</td></tr>\n",
       "\t<tr><td>0</td><td>0</td><td>31.51</td><td>0</td></tr>\n",
       "\t<tr><td>0</td><td>1</td><td>33.21</td><td>0</td></tr>\n",
       "</tbody>\n",
       "</table>\n"
      ],
      "text/latex": [
       "A tibble: 6 × 4\n",
       "\\begin{tabular}{llll}\n",
       " Grade & Gender & Age\\_at\\_diagnosis & EGFR\\\\\n",
       " <dbl> & <dbl> & <dbl> & <dbl>\\\\\n",
       "\\hline\n",
       "\t 0 & 0 & 51.30 & 0\\\\\n",
       "\t 0 & 0 & 38.72 & 0\\\\\n",
       "\t 0 & 0 & 35.17 & 0\\\\\n",
       "\t 0 & 1 & 32.78 & 0\\\\\n",
       "\t 0 & 0 & 31.51 & 0\\\\\n",
       "\t 0 & 1 & 33.21 & 0\\\\\n",
       "\\end{tabular}\n"
      ],
      "text/markdown": [
       "\n",
       "A tibble: 6 × 4\n",
       "\n",
       "| Grade &lt;dbl&gt; | Gender &lt;dbl&gt; | Age_at_diagnosis &lt;dbl&gt; | EGFR &lt;dbl&gt; |\n",
       "|---|---|---|---|\n",
       "| 0 | 0 | 51.30 | 0 |\n",
       "| 0 | 0 | 38.72 | 0 |\n",
       "| 0 | 0 | 35.17 | 0 |\n",
       "| 0 | 1 | 32.78 | 0 |\n",
       "| 0 | 0 | 31.51 | 0 |\n",
       "| 0 | 1 | 33.21 | 0 |\n",
       "\n"
      ],
      "text/plain": [
       "  Grade Gender Age_at_diagnosis EGFR\n",
       "1 0     0      51.30            0   \n",
       "2 0     0      38.72            0   \n",
       "3 0     0      35.17            0   \n",
       "4 0     1      32.78            0   \n",
       "5 0     0      31.51            0   \n",
       "6 0     1      33.21            0   "
      ]
     },
     "metadata": {},
     "output_type": "display_data"
    },
    {
     "data": {
      "text/html": [
       "839"
      ],
      "text/latex": [
       "839"
      ],
      "text/markdown": [
       "839"
      ],
      "text/plain": [
       "[1] 839"
      ]
     },
     "metadata": {},
     "output_type": "display_data"
    }
   ],
   "source": [
    "glioma <- glioma_raw %>%\n",
    "\tfilter(!is.na(Age_at_diagnosis)) %>%\n",
    "\tselect(Grade, Gender, Age_at_diagnosis, EGFR)\n",
    "\n",
    "head(glioma)\n",
    "nrow(glioma)"
   ]
  },
  {
   "cell_type": "markdown",
   "id": "5bb10d75-a597-4dbe-af97-30e4219ab092",
   "metadata": {},
   "source": [
    "### Variables of Interest\n",
    "In this study we are interested in two things:  \n",
    "1. Is there a difference in the proportions of patients with EGFR gene mutation between high grade and low grade groups?\n",
    "2. Is there something we can learn about the grade of glioma patients from their age at diagnosis?"
   ]
  },
  {
   "cell_type": "markdown",
   "id": "178820f3-4c99-4891-93e9-e72f4a5321d4",
   "metadata": {},
   "source": [
    "#### Patient Age at Diagnosis and Glioma Grade"
   ]
  },
  {
   "cell_type": "code",
   "execution_count": 5,
   "id": "0cf80025-89c5-469e-903e-ac1440d48238",
   "metadata": {
    "vscode": {
     "languageId": "r"
    }
   },
   "outputs": [],
   "source": [
    "# Create a bootstrap distribution of mutated EGFR gene proportions of the low-grade glioma \n",
    "age_virtual_samples_0 <- glioma %>%\n",
    "    filter(Grade == 0) %>%\n",
    "    specify(response = Age_at_diagnosis) %>%\n",
    "    generate(type = 'bootstrap', reps = 10000) %>%\n",
    "    calculate(stat = 'mean') %>%\n",
    "    cbind(Grade = rep(0, 10000))\n",
    "\n",
    "# Create a bootstrap distribution of a mutated EGFR gene proportions of the high-grade glioma\n",
    "age_virtual_samples_1 <- glioma %>%\n",
    "    filter(Grade == 1) %>%\n",
    "    specify(response = Age_at_diagnosis) %>%\n",
    "    generate(type = 'bootstrap', reps = 10000) %>%\n",
    "    calculate(stat = 'mean') %>%\n",
    "    cbind(Grade = rep(1, 10000))\n",
    "\n",
    "# Combine the two bootstrap distributions into one dataframe \n",
    "age_virtual_samples <- rbind(age_virtual_samples_0, age_virtual_samples_1) %>%\n",
    "    mutate(Grade = as.factor(Grade))"
   ]
  },
  {
   "cell_type": "code",
   "execution_count": 6,
   "id": "a71c149f-b2fc-4432-b831-e5276475a001",
   "metadata": {
    "vscode": {
     "languageId": "r"
    }
   },
   "outputs": [],
   "source": [
    "# Sample distribution plot of age at diagnosis\n",
    "age_sample_dist <- glioma %>%\n",
    "    filter(!is.na(Age_at_diagnosis)) %>%\n",
    "    mutate(Grade = as.factor(Grade)) %>%\n",
    "    ggplot() + \n",
    "    geom_histogram(aes(x = Age_at_diagnosis, fill = Grade, alpha = 0.75), bins = 39) + \n",
    "    xlab(\"Age of Diagnosis\") + \n",
    "    ggtitle(\"Sample Distribution of Age at Diagnosis of Glioma\") +\n",
    "    theme(text = element_text(size = 16))\n",
    "\n",
    "# Plot the resulting bootstrap distributions\n",
    "mean_age_bootstrap_dist <- age_virtual_samples %>%\n",
    "    ggplot() + \n",
    "    geom_histogram(aes(x = stat, fill = Grade), bins = 35) + \n",
    "    xlab(\"Mean Age at Diagnosis of Bootstrap Samples\") + \n",
    "    ggtitle(\"Bootstrap Distribution of Age at Diagnosis by Glioma Grade\") + \n",
    "    theme(text = element_text(size = 16))"
   ]
  },
  {
   "cell_type": "code",
   "execution_count": 7,
   "id": "816bc5d8-f2c8-4c45-ac5c-7086affb0621",
   "metadata": {
    "vscode": {
     "languageId": "r"
    }
   },
   "outputs": [
    {
     "data": {
      "image/png": "[encoded data removed]",
      "text/plain": [
       "plot without title"
      ]
     },
     "metadata": {
      "image/png": {
       "height": 420,
       "width": 960
      }
     },
     "output_type": "display_data"
    }
   ],
   "source": [
    "options(repr.plot.width = 16)\n",
    "plot_grid(age_sample_dist, mean_age_bootstrap_dist, labels = c('A', 'B'), label_size = 24)"
   ]
  },
  {
   "cell_type": "markdown",
   "id": "aa494dcc-d88e-4131-b859-d3c2cfa38ccd",
   "metadata": {},
   "source": [
    "**Figure 1A:** The sample distribution of patients ages at the time of glioma diagnosis as encoded in the `Age_at_diagnosis` feature. The histograms are color coded by the glioma grade, where the red histogram indicates low grade glioma, and the cyan histogram displays the distribution of high grade glioma. The purpose of this visualization is to explore whether the sample distribution of patient age at diagnosis reveals anything about their glioma grade. For example, patients diagnosed at a later age may have a higher grade glioma. The distribution has quite a wide range, ranging from about 12 to over 85 years of age. We see majority of the high-grade glioma diagnoses are on the higher end of the distribution, whereas the lower grade gliomas are spread across in what seems to be a bimodal distribution.  \n",
    "**Figure 1B:** The bootstrap distribution of patients mean age taken from 10,000 bootstrap samples. The mean age of diagnosis for patients with low grade glioma seems to be around 44, and the mean age of diagnosis for high grade glioma patients is around 61. "
   ]
  },
  {
   "cell_type": "markdown",
   "id": "43be313d-7661-4b6a-b2bc-44c576e72c92",
   "metadata": {},
   "source": [
    "#### EGFR Mutation Proportions and Glioma Grade"
   ]
  },
  {
   "cell_type": "code",
   "execution_count": 8,
   "id": "2c72a483-58f1-4404-974b-1d3e1739fee8",
   "metadata": {
    "vscode": {
     "languageId": "r"
    }
   },
   "outputs": [],
   "source": [
    "# Create a bootstrap distribution of mutated EGFR gene proportions \n",
    "egfr_virtual_bootstrap_dist <- glioma %>%\n",
    "    mutate(EGFR = as.factor(EGFR)) %>%\n",
    "    specify(response = EGFR, success = '1') %>%\n",
    "    generate(type = 'bootstrap', reps = 10000) %>%\n",
    "    calculate(stat = 'prop') \n",
    "\n",
    "# Create a bootstrap distribution of mutated EGFR gene proportions of the low-grade glioma \n",
    "egfr_virtual_samples_0 <- glioma %>%\n",
    "    filter(Grade == 0) %>%\n",
    "    mutate(EGFR = as.factor(EGFR)) %>%\n",
    "    specify(response = EGFR, success = '1') %>%\n",
    "    generate(type = 'bootstrap', reps = 10000) %>%\n",
    "    calculate(stat = 'prop') %>%\n",
    "    cbind(Grade = rep(0, 10000))\n",
    "\n",
    "# Create a bootstrap distribution of a mutated EGFR gene proportions of the high-grade glioma\n",
    "egfr_virtual_samples_1 <- glioma %>%\n",
    "    filter(Grade == 1) %>%\n",
    "    mutate(EGFR = as.factor(EGFR)) %>%\n",
    "    specify(response = EGFR, success = '1') %>%\n",
    "    generate(type = 'bootstrap', reps = 10000) %>%\n",
    "    calculate(stat = 'prop') %>%\n",
    "    cbind(Grade = rep(1, 10000))\n",
    "\n",
    "# Combine the two bootstrap distributions into one dataframe \n",
    "egfr_virtual_samples_by_label <- rbind(egfr_virtual_samples_0, egfr_virtual_samples_1) %>%\n",
    "    mutate(Grade = as.factor(Grade))"
   ]
  },
  {
   "cell_type": "code",
   "execution_count": 25,
   "id": "c292e21b-2e75-4c6c-9209-258baadee34d",
   "metadata": {
    "vscode": {
     "languageId": "r"
    }
   },
   "outputs": [],
   "source": [
    "# The plot of bootstrap samples by label\n",
    "plot_by_label <- egfr_virtual_samples_by_label %>%\n",
    "    ggplot() + \n",
    "    geom_histogram(aes(x = stat, fill = Grade), bins = 40) + \n",
    "    xlab(\"Proportion of EGFR Mutations of Bootstrap Samples\") + \n",
    "    ggtitle(\"Bootstrap Distribution of EGFR Mutation Proportions by Glioma Grade\") + \n",
    "    theme(text = element_text(size = 16))\n",
    "\n",
    "# The plot of bootstrap samples holistically \n",
    "plot_entire <- egfr_virtual_bootstrap_dist %>%\n",
    "    ggplot() + \n",
    "    geom_histogram(aes(x = stat), bins = 40) + \n",
    "    xlab(\"Proportion of EGFR Mutations of Bootstrap Samples\") + \n",
    "    ggtitle(\"Bootstrap Distribution of EGFR Mutation Proportions by Glioma Grade\") + \n",
    "    theme(text = element_text(size = 16))"
   ]
  },
  {
   "cell_type": "code",
   "execution_count": 26,
   "id": "73e66ae9-cbbd-4f17-9793-e7c9b710cafc",
   "metadata": {
    "vscode": {
     "languageId": "r"
    }
   },
   "outputs": [
    {
     "data": {
      "image/png": "[encoded data removed]",
      "text/plain": [
       "plot without title"
      ]
     },
     "metadata": {
      "image/png": {
       "height": 420,
       "width": 960
      }
     },
     "output_type": "display_data"
    }
   ],
   "source": [
    "# Plot by grid\n",
    "plot_grid(plot_entire, plot_by_label, labels = c('A', 'B'), label_size = 24) "
   ]
  },
  {
   "cell_type": "markdown",
   "id": "b247a4ce-2133-4922-a94c-955091f0f9f2",
   "metadata": {},
   "source": [
    "**Figure 2A:** The bootstrap distribution of proportions of EGFR mutations in glioma patients. The mean is around 14%, with approximately 14% of glioma patients have an EGFR gene mutation.  \n",
    "**Figure 2B:** The bootstrap distribution of proportions of EGFR mutations in low grade vs high grade glioma patients. The mean for low-grade glioma patients is roughly 7%, and the mean for high-grade glioma patients is roughly 24%. This may suggest that EGFR mutations are associated with higher-grade glioma."
   ]
  },
  {
   "cell_type": "markdown",
   "id": "3ac76bb4-e0f7-499a-9d75-6236579ed4b8",
   "metadata": {},
   "source": [
    "### Test Statistic Summary"
   ]
  },
  {
   "cell_type": "code",
   "execution_count": 11,
   "id": "20a68d29-a0e8-4bfa-b9c7-48f8104cc44d",
   "metadata": {
    "vscode": {
     "languageId": "r"
    }
   },
   "outputs": [],
   "source": [
    "egfr_bootstrap_mean_0 <- mean(egfr_virtual_samples_0$stat)\n",
    "egfr_bootstrap_mean_1 <- mean(egfr_virtual_samples_1$stat)\n",
    "age_bootstrap_mean_0 <- mean(age_virtual_samples_0$stat)\n",
    "age_bootstrap_mean_1 <- mean(age_virtual_samples_1$stat)"
   ]
  },
  {
   "cell_type": "code",
   "execution_count": 12,
   "id": "23fa671b-cfe2-4e92-ad8a-9e6dd4d360bb",
   "metadata": {
    "vscode": {
     "languageId": "r"
    }
   },
   "outputs": [
    {
     "data": {
      "text/html": [
       "<table class=\"dataframe\">\n",
       "<caption>A data.frame: 2 × 2</caption>\n",
       "<thead>\n",
       "\t<tr><th></th><th scope=col>Low-grade Glioma Patients</th><th scope=col>High-grade Glioma Patients</th></tr>\n",
       "\t<tr><th></th><th scope=col>&lt;dbl&gt;</th><th scope=col>&lt;dbl&gt;</th></tr>\n",
       "</thead>\n",
       "<tbody>\n",
       "\t<tr><th scope=row>Proportion EGFR Mutated (p)</th><td> 0.06379569</td><td> 0.2301832</td></tr>\n",
       "\t<tr><th scope=row>Age of Diagnosis (a)</th><td>43.87205402</td><td>60.6950507</td></tr>\n",
       "</tbody>\n",
       "</table>\n"
      ],
      "text/latex": [
       "A data.frame: 2 × 2\n",
       "\\begin{tabular}{r|ll}\n",
       "  & Low-grade Glioma Patients & High-grade Glioma Patients\\\\\n",
       "  & <dbl> & <dbl>\\\\\n",
       "\\hline\n",
       "\tProportion EGFR Mutated (p) &  0.06379569 &  0.2301832\\\\\n",
       "\tAge of Diagnosis (a) & 43.87205402 & 60.6950507\\\\\n",
       "\\end{tabular}\n"
      ],
      "text/markdown": [
       "\n",
       "A data.frame: 2 × 2\n",
       "\n",
       "| <!--/--> | Low-grade Glioma Patients &lt;dbl&gt; | High-grade Glioma Patients &lt;dbl&gt; |\n",
       "|---|---|---|\n",
       "| Proportion EGFR Mutated (p) |  0.06379569 |  0.2301832 |\n",
       "| Age of Diagnosis (a) | 43.87205402 | 60.6950507 |\n",
       "\n"
      ],
      "text/plain": [
       "                            Low-grade Glioma Patients\n",
       "Proportion EGFR Mutated (p)  0.06379569              \n",
       "Age of Diagnosis (a)        43.87205402              \n",
       "                            High-grade Glioma Patients\n",
       "Proportion EGFR Mutated (p)  0.2301832                \n",
       "Age of Diagnosis (a)        60.6950507                "
      ]
     },
     "metadata": {},
     "output_type": "display_data"
    }
   ],
   "source": [
    "summary.stat.table <- tibble(\n",
    "    \"Low-grade Glioma Patients\" = c(egfr_bootstrap_mean_0, age_bootstrap_mean_0),\n",
    "    \"High-grade Glioma Patients\" = c(egfr_bootstrap_mean_1, age_bootstrap_mean_1), \n",
    "    \"Rownames\" = c(\"Proportion EGFR Mutated (p)\", \"Age of Diagnosis (a)\")\n",
    "    )\n",
    "summary.stat.table <- summary.stat.table %>%\n",
    "    column_to_rownames(., var = 'Rownames')\n",
    "summary.stat.table"
   ]
  },
  {
   "cell_type": "markdown",
   "id": "6d5a151d-535d-4c5e-aacf-afa1d56cb219",
   "metadata": {},
   "source": [
    "At first glance, it seems there is a difference between the low-grade and high-grade glioma patients. To confirm, we will perform hypothesis testing with the following null hypotheses:  \n",
    "Test one: the proportion of patients with EGFR mutations, $p$:  \n",
    "* $H_0$: $p_{low-grade} = p_{high-grade}$  \n",
    "* $H_A$: $p_{low-grade} \\neq p_{high-grade}$  \n",
    "\n",
    "Test two: the age of diagnosis, $a$:\n",
    "* $H_0$: $\\bar x_{low-grade} = \\bar x_{high-grade}$\n",
    "* $H_A$: $\\bar x_{low-grade} \\neq \\bar x_{high-grade}$"
   ]
  },
  {
   "cell_type": "markdown",
   "id": "33571f64-27f6-4c85-bd56-74f946620666",
   "metadata": {},
   "source": [
    "## Methods"
   ]
  },
  {
   "cell_type": "markdown",
   "id": "c5486292-b432-48a2-88ed-0d1664f2c63c",
   "metadata": {},
   "source": [
    "For our analysis, we will use a bootstrapping approach to do a two-sided hypothesis test for both questions. We will be calculating the differences in means and in proportion to address the two questions. We will perform hypothesis testing by analyzing the quantiles of the simulated distributions. It should be noted that the conditions for ***Central Limit Theorem (CLT)*** are fulfilled: \n",
    "\n",
    "1. with 10000 samples of size 839, there will be sufficent sample size for CLT\n",
    "2. For question 2, $839\\times\\min(1-0.06366489, 0.06366489)\\ge10$ and $839\\times\\min(1-0.2299338,0.2299338)\\ge10$\n",
    "\n",
    "To be less suceptible to Type 1 and Type 2 error in the hypothesis testing and an $\\alpha$ value of 0.05, ensuring 95% confidence in our findings."
   ]
  },
  {
   "cell_type": "markdown",
   "id": "55a6fd03-9ec8-4471-8d58-946b2d53a246",
   "metadata": {},
   "source": [
    "Based on preliminary results, the following patterns are visible: \n",
    "1. The proportion of GBM patients with EGFR mutation > proportion of LGG patients with EGFR mutation\n",
    "2. At the time of diagnosis, the mean age of GBM patients > the mean age of LGG patients  \n",
    "\n",
    "With hypothesis testing, it can be stated that these factors are correlated with glioma grade. The significance of this study is three-fold. First, this may provide an entry-point to genetic and metabolic studies to better understand the pathophysiology of glioma. Second, the tests regarding age at time of diagnosis may contribute to understanding people who may be at higher risk and how the disease develops. Lastly, studying these factors can contribute to screening methods for early detection and better patient prognsis. "
   ]
  },
  {
   "cell_type": "markdown",
   "id": "3e0a36dc",
   "metadata": {},
   "source": [
    "## Hypothesis Testing"
   ]
  },
  {
   "cell_type": "markdown",
   "id": "544cbf1e",
   "metadata": {},
   "source": [
    "### Asymptotic Testing"
   ]
  },
  {
   "cell_type": "markdown",
   "id": "1e6dfcf9",
   "metadata": {},
   "source": [
    "### Theoretical Testing"
   ]
  },
  {
   "cell_type": "code",
   "execution_count": 13,
   "id": "081c4c3f",
   "metadata": {
    "vscode": {
     "languageId": "r"
    }
   },
   "outputs": [],
   "source": [
    "alpha <- 0.05"
   ]
  },
  {
   "cell_type": "markdown",
   "id": "df1e51c8",
   "metadata": {},
   "source": [
    "For test one, a difference in proportion test will be used."
   ]
  },
  {
   "cell_type": "markdown",
   "id": "18cdb0e0",
   "metadata": {
    "vscode": {
     "languageId": "r"
    }
   },
   "source": [
    "t1_summary <- glioma %>%\n",
    "\tgroup_by(Grade) %>%\n",
    " \tsummarize(grade_n = n(), egfr_n = sum(EGFR), egfr_p = mean(EGFR))\n",
    "\n",
    "t1_grade_0_summary <- t1_summary[1,]\n",
    "t1_grade_1_summary <- t1_summary[2,]\n",
    "\n",
    "t1_pooled_p <- (t1_grade_0_summary$egfr_n + t1_grade_1_summary$egfr_n) / (t1_grade_0_summary$grade_n + t1_grade_1_summary$grade_n)\n",
    "t1_z <- (t1_grade_0_summary$egfr_p - t1_grade_1_summary$egfr_p) / sqrt(t1_pooled_p * (1 - t1_pooled_p) * (1/t1_grade_0_summary$egfr_n + 1/t1_grade_1_summary$egfr_n))\n",
    "t1_p_value <- 2 * pnorm(t1_z)\n",
    "\n",
    "\n",
    "t1_summary\n",
    "tidy(\n",
    "\tprop.test(\n",
    "  x = c(t1_grade_0_summary$egfr_n, t1_grade_1_summary$egfr_n),\n",
    "  n = c(t1_grade_0_summary$grade_n, t1_grade_1_summary$grade_n),\n",
    "  conf.level = 0.95,\n",
    "  correct = F\n",
    "\t)\n",
    ")"
   ]
  },
  {
   "cell_type": "markdown",
   "id": "8c63ce74",
   "metadata": {
    "vscode": {
     "languageId": "r"
    }
   },
   "source": [
    "print(str_glue(\"With a z-value of {t1_z}, a p_value of {t1_p_value} was found\"))\n",
    "print(str_glue(\"This is{if(t1_p_value < alpha) '' else ' not'} more significant than the {alpha} set as the significance level\"))"
   ]
  },
  {
   "cell_type": "markdown",
   "id": "5d5057d9",
   "metadata": {},
   "source": [
    "For the second test, a different in means test will be used"
   ]
  },
  {
   "cell_type": "code",
   "execution_count": null,
   "id": "d19329e8",
   "metadata": {
    "vscode": {
     "languageId": "r"
    }
   },
   "outputs": [],
   "source": [
    "t2_summary <- glioma %>%\n",
    "\tgroup_by(Grade) %>%\n",
    "\tsummarize(grade_n = n(), age_mu = mean(Age_at_diagnosis), age_sd = sd(Age_at_diagnosis))\n",
    "\n",
    "t2_grade_0_summary <- t2_summary[1, ]\n",
    "t2_grade_1_summary <- t2_summary[2, ]\n",
    "\n",
    "\n",
    "t2_diff_mean <- t2_grade_0_summary$age_mu - t2_grade_1_summary$age_mu\n",
    "t2_var <- t2_grade_0_summary$age_sd^2 / t2_grade_0_summary$grade_n + t2_grade_1_summary$age_sd^2 / t2_grade_1_summary$grade_n\n",
    "\n",
    "t2_T <- t2_diff_mean / sqrt(t2_var)\n",
    "t2_df <- t2_var^2 / (t2_grade_0_summary$age_sd^4 / (t2_grade_0_summary$grade_n^2 * (t2_grade_0_summary$grade_n - 1)) + t2_grade_1_summary$age_sd^2 / (t2_grade_1_summary$grade_n^2 * (t2_grade_1_summary$grade_n - 1)))\n",
    "\n",
    "t2_p <- 2 * pt(t2_T, t2_df, lower.tail = T)"
   ]
  },
  {
   "cell_type": "code",
   "execution_count": null,
   "id": "938f162b",
   "metadata": {
    "vscode": {
     "languageId": "r"
    }
   },
   "outputs": [
    {
     "name": "stdout",
     "output_type": "stream",
     "text": [
      "With a t-value of -18.0081276241434, a p_value of 1.09453670541347e-68 was found\n",
      "This is more significant than the 0.05 set as the significance level\n"
     ]
    }
   ],
   "source": [
    "print(str_glue(\"With a t-value of {t2_T}, a p_value of {t2_p} was found\"))\n",
    "print(str_glue(\"This is{if(t2_p < alpha) '' else ' not'} more significant than the {alpha} set as the significance level\"))"
   ]
  },
  {
   "cell_type": "code",
   "execution_count": null,
   "id": "3fe934f8",
   "metadata": {
    "vscode": {
     "languageId": "r"
    }
   },
   "outputs": [
    {
     "data": {
      "text/html": [
       "<table class=\"dataframe\">\n",
       "<caption>A tibble: 1 × 2</caption>\n",
       "<thead>\n",
       "\t<tr><th scope=col>lower_ci</th><th scope=col>upper_ci</th></tr>\n",
       "\t<tr><th scope=col>&lt;dbl&gt;</th><th scope=col>&lt;dbl&gt;</th></tr>\n",
       "</thead>\n",
       "<tbody>\n",
       "\t<tr><td>42.88613</td><td>44.86372</td></tr>\n",
       "</tbody>\n",
       "</table>\n"
      ],
      "text/latex": [
       "A tibble: 1 × 2\n",
       "\\begin{tabular}{ll}\n",
       " lower\\_ci & upper\\_ci\\\\\n",
       " <dbl> & <dbl>\\\\\n",
       "\\hline\n",
       "\t 42.88613 & 44.86372\\\\\n",
       "\\end{tabular}\n"
      ],
      "text/markdown": [
       "\n",
       "A tibble: 1 × 2\n",
       "\n",
       "| lower_ci &lt;dbl&gt; | upper_ci &lt;dbl&gt; |\n",
       "|---|---|\n",
       "| 42.88613 | 44.86372 |\n",
       "\n"
      ],
      "text/plain": [
       "  lower_ci upper_ci\n",
       "1 42.88613 44.86372"
      ]
     },
     "metadata": {},
     "output_type": "display_data"
    },
    {
     "data": {
      "text/html": [
       "<table class=\"dataframe\">\n",
       "<caption>A tibble: 1 × 2</caption>\n",
       "<thead>\n",
       "\t<tr><th scope=col>lower_ci</th><th scope=col>upper_ci</th></tr>\n",
       "\t<tr><th scope=col>&lt;dbl&gt;</th><th scope=col>&lt;dbl&gt;</th></tr>\n",
       "</thead>\n",
       "<tbody>\n",
       "\t<tr><td>59.52619</td><td>61.88131</td></tr>\n",
       "</tbody>\n",
       "</table>\n"
      ],
      "text/latex": [
       "A tibble: 1 × 2\n",
       "\\begin{tabular}{ll}\n",
       " lower\\_ci & upper\\_ci\\\\\n",
       " <dbl> & <dbl>\\\\\n",
       "\\hline\n",
       "\t 59.52619 & 61.88131\\\\\n",
       "\\end{tabular}\n"
      ],
      "text/markdown": [
       "\n",
       "A tibble: 1 × 2\n",
       "\n",
       "| lower_ci &lt;dbl&gt; | upper_ci &lt;dbl&gt; |\n",
       "|---|---|\n",
       "| 59.52619 | 61.88131 |\n",
       "\n"
      ],
      "text/plain": [
       "  lower_ci upper_ci\n",
       "1 59.52619 61.88131"
      ]
     },
     "metadata": {},
     "output_type": "display_data"
    }
   ],
   "source": [
    "t2_grade_0_summary %>%\n",
    "    summarize(\n",
    "        lower_ci = qt(0.05, t2_df) * age_sd / sqrt(grade_n) + age_mu,\n",
    "        upper_ci = qt(0.95, t2_df) * age_sd / sqrt(grade_n) + age_mu\n",
    "    )\n",
    "\n",
    "t2_grade_1_summary %>%\n",
    "    summarize(\n",
    "        lower_ci = qt(0.05, t2_df) * age_sd / sqrt(grade_n) + age_mu,\n",
    "        upper_ci = qt(0.95, t2_df) * age_sd / sqrt(grade_n) + age_mu\n",
    "    )"
   ]
  },
  {
   "cell_type": "markdown",
   "id": "ba3a3c9f",
   "metadata": {},
   "source": [
    "## Discussion"
   ]
  },
  {
   "cell_type": "code",
   "execution_count": null,
   "id": "07aee1ac",
   "metadata": {
    "vscode": {
     "languageId": "r"
    }
   },
   "outputs": [],
   "source": []
  },
  {
   "cell_type": "markdown",
   "id": "7f63337e-e939-4723-be9d-9fe7be380ccd",
   "metadata": {},
   "source": [
    "## References"
   ]
  },
  {
   "cell_type": "markdown",
   "id": "fee75173-6ac7-404c-b683-46ce2fdaa3ab",
   "metadata": {},
   "source": [
    "Carrano, Anna, et al. “Sex-Specific Differences in Glioblastoma.” Cells, vol. 10, no. 7, 2021, p. 1783, https://doi.org/10.3390/cells10071783. \n",
    "\n",
    "Liu, Haijing, et al. “Spectrum of EGFR Aberrations and Potential Clinical Implications: Insights from Integrative Pan‐cancer Analysis.” Cancer Communications, vol. 40, no. 1, 2020, pp. 43–59, https://doi.org/10.1002/cac2.12005. \n",
    "\n",
    "“Release Notice - Canadian Cancer Statistics 2021.” Health Promotion and Chronic Disease Prevention in Canada, vol. 41, no. 11, 2021, pp. 399–399, https://doi.org/10.24095/hpcdp.41.11.09. \n",
    "\n",
    "Xu, Hongsheng, et al. “Epidermal Growth Factor Receptor in Glioblastoma.” Oncology Letters, vol. 14, no. 1, 2017, pp. 512–516, https://doi.org/10.3892/ol.2017.6221. \n"
   ]
  }
 ],
 "metadata": {
  "kernelspec": {
   "display_name": "R",
   "language": "R",
   "name": "ir"
  },
  "language_info": {
   "codemirror_mode": "r",
   "file_extension": ".r",
   "mimetype": "text/x-r-source",
   "name": "R",
   "pygments_lexer": "r",
   "version": "4.2.1"
  }
 },
 "nbformat": 4,
 "nbformat_minor": 5
}
