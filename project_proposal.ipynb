{
 "cells": [
  {
   "cell_type": "markdown",
   "id": "f5c83fa8-0215-47ad-b577-d23cd829704b",
   "metadata": {
    "tags": []
   },
   "source": [
    "# STAT 201 Project Proposal"
   ]
  },
  {
   "cell_type": "markdown",
   "id": "df2b00e2-a83f-44fd-b60c-3697d93daa86",
   "metadata": {
    "tags": []
   },
   "source": [
    "# 0 - Introduction"
   ]
  },
  {
   "cell_type": "markdown",
   "id": "f0be7669-0b00-4862-8ce5-d6f23362e5cd",
   "metadata": {},
   "source": [
    "In Canada, cancer is currently the leading cause of death annually with 2 in 5 people expected to be diagnosed once in their lifetime (Canadian Cancer Statistics, 2021), and gliomas being the most common malignant tumors in adults (Carrano, 2021). There exists certain genetic mutations that can increase the risk of cancer, accelerating cancer progression, such as the epidermal growth factor receptor (EGFR) (Xu, 2017). As EGFR mutations are more commonly associated with lung cancer, investigating the impacts of EGFR gene mutations on the severity of gliomas may also be useful for other clinical treatments and therapies (Liu, 2020). Another factor commonly associated to prognosis is the age of diagnosis. Therefore our interests are two-fold:\n",
    "\n",
    "1) Do the proportion of patients with the EGFR mutation differ between those with glioblastoma (GBM) and low grade glioma (LGG)?\n",
    "\n",
    "2) Is there a significant difference in the average age of diagnosis for individuals with glioblastoma (GBM) and low grade glioma (LGG)?\n",
    "\n",
    "The dataset we will be using is the Glioma Grading Clinical and Mutation Features Dataset from the UCI Machine Learning Repository. For our purposes, we are interested in the following features. \n",
    "\n",
    "For the first question:\n",
    "  \n",
    "* `EGFR`: Gene responsible for the production of the epidermal growth factor receptor (EGFR) (0 = not mutated, 1 = mutated)\n",
    "* `Grade`: Glioma class information (1 = glioblastoma (GBM), 0 = low grade glioma (LGG))\n",
    "\n",
    "For the second question:\n",
    "\n",
    "* `Age_at_diagnosis`: age of individual at time of diagnosis in years\n",
    "* `Grade`: Glioma class information (1 = glioblastoma (GBM), 0 = low grade glioma (LGG))\n"
   ]
  },
  {
   "cell_type": "markdown",
   "id": "33571f64-27f6-4c85-bd56-74f946620666",
   "metadata": {
    "tags": []
   },
   "source": [
    "# 1 - Methods and Results"
   ]
  },
  {
   "cell_type": "markdown",
   "id": "c5486292-b432-48a2-88ed-0d1664f2c63c",
   "metadata": {},
   "source": [
    "For our analysis, we will perform a two-sided hypothesis test for both of our questions to estimate the difference in means and the difference in proportions for each corresponding question. From that we will decide whether or not to accept or reject the null based on the p-value, and then the 95% confidence interval for the true parameter will be calculated. Below are the preliminary results found in the initial investigation. It should be noted that the conditions for ***Central Limit Theorem (CLT)*** are fulfilled: \n",
    "\n",
    "1. with 10000 samples of size 839, there will be sufficent sample size for CLT\n",
    "2. For question 2, since the following statments are true CLT can apply \n",
    "\n",
    "    A) $839\\times\\min(1-0.06359671, 0.06359671)\\ge10$ and $839\\times\\min(1-0.2303014,0.2303014)\\ge10$\n",
    "   \n",
    "    B) $352\\times\\min(1-0.06359671, 0.06359671)\\ge10$ and $352\\times\\min(1-0.2303014,0.2303014)\\ge10$\n",
    "    \n",
    "    C) $487\\times\\min(1-0.06359671, 0.06359671)\\ge10$ and $487\\times\\min(1-0.2303014,0.2303014)\\ge10$\n",
    "    \n"
   ]
  },
  {
   "cell_type": "markdown",
   "id": "74d694b5-956f-4616-a5a4-fe569dd82473",
   "metadata": {
    "tags": []
   },
   "source": [
    "## 1.1 - Preliminary Results"
   ]
  },
  {
   "cell_type": "code",
   "execution_count": 1,
   "id": "597755aa-8341-4ab2-ba21-ccb20055f746",
   "metadata": {
    "vscode": {
     "languageId": "r"
    }
   },
   "outputs": [
    {
     "name": "stderr",
     "output_type": "stream",
     "text": [
      "── \u001b[1mAttaching core tidyverse packages\u001b[22m ───────────────────────────────────────────────────────────────── tidyverse 2.0.0 ──\n",
      "\u001b[32m✔\u001b[39m \u001b[34mdplyr    \u001b[39m 1.1.2     \u001b[32m✔\u001b[39m \u001b[34mreadr    \u001b[39m 2.1.4\n",
      "\u001b[32m✔\u001b[39m \u001b[34mforcats  \u001b[39m 1.0.0     \u001b[32m✔\u001b[39m \u001b[34mstringr  \u001b[39m 1.5.0\n",
      "\u001b[32m✔\u001b[39m \u001b[34mggplot2  \u001b[39m 3.4.2     \u001b[32m✔\u001b[39m \u001b[34mtibble   \u001b[39m 3.2.1\n",
      "\u001b[32m✔\u001b[39m \u001b[34mlubridate\u001b[39m 1.9.2     \u001b[32m✔\u001b[39m \u001b[34mtidyr    \u001b[39m 1.3.0\n",
      "\u001b[32m✔\u001b[39m \u001b[34mpurrr    \u001b[39m 1.0.1     \n",
      "── \u001b[1mConflicts\u001b[22m ─────────────────────────────────────────────────────────────────────────────────── tidyverse_conflicts() ──\n",
      "\u001b[31m✖\u001b[39m \u001b[34mdplyr\u001b[39m::\u001b[32mfilter()\u001b[39m masks \u001b[34mstats\u001b[39m::filter()\n",
      "\u001b[31m✖\u001b[39m \u001b[34mdplyr\u001b[39m::\u001b[32mlag()\u001b[39m    masks \u001b[34mstats\u001b[39m::lag()\n",
      "\u001b[36mℹ\u001b[39m Use the conflicted package (\u001b[3m\u001b[34m<http://conflicted.r-lib.org/>\u001b[39m\u001b[23m) to force all conflicts to become errors\n",
      "\n",
      "Attaching package: 'cowplot'\n",
      "\n",
      "\n",
      "The following object is masked from 'package:lubridate':\n",
      "\n",
      "    stamp\n",
      "\n",
      "\n"
     ]
    }
   ],
   "source": [
    "library(tidyverse)\n",
    "library(infer)\n",
    "library(cowplot)\n",
    "library(stringr)\n",
    "library(broom)"
   ]
  },
  {
   "cell_type": "code",
   "execution_count": 2,
   "id": "0e6183c9-b6e4-4c50-8ec8-7d94670f15f1",
   "metadata": {
    "vscode": {
     "languageId": "r"
    }
   },
   "outputs": [
    {
     "name": "stderr",
     "output_type": "stream",
     "text": [
      "\u001b[1mRows: \u001b[22m\u001b[34m839\u001b[39m \u001b[1mColumns: \u001b[22m\u001b[34m24\u001b[39m\n",
      "\u001b[36m──\u001b[39m \u001b[1mColumn specification\u001b[22m \u001b[36m─────────────────────────────────────────────────────────────────────────────────────────────────\u001b[39m\n",
      "\u001b[1mDelimiter:\u001b[22m \",\"\n",
      "\u001b[32mdbl\u001b[39m (24): Grade, Gender, Age_at_diagnosis, Race, IDH1, TP53, ATRX, PTEN, EGF...\n",
      "\n",
      "\u001b[36mℹ\u001b[39m Use `spec()` to retrieve the full column specification for this data.\n",
      "\u001b[36mℹ\u001b[39m Specify the column types or set `show_col_types = FALSE` to quiet this message.\n"
     ]
    }
   ],
   "source": [
    "glioma_raw <- read_csv(\"https://raw.githubusercontent.com/Lucien950/stat-201-group-15/main/TCGA_InfoWithGrade.csv\")"
   ]
  },
  {
   "cell_type": "markdown",
   "id": "7f6759a2-a34b-477f-b8e1-6b49ce56d332",
   "metadata": {},
   "source": [
    "### 1.1.1 - Explanation of the Datset\n",
    "The dataset is that of glioma patients. The clinical features are `Gender`, `Age_at_diagnosis` and `Race`, and there are a variety of binary features, whether a specific gene is mutated or not. The grade of the glioma is encoded in the `Grade` feature. A preview of the dataset is shown below."
   ]
  },
  {
   "cell_type": "code",
   "execution_count": 3,
   "id": "0863266f-9ff0-4375-af20-fb5e973de75e",
   "metadata": {
    "vscode": {
     "languageId": "r"
    }
   },
   "outputs": [
    {
     "data": {
      "text/html": [
       "<table class=\"dataframe\">\n",
       "<caption>A tibble: 6 × 24</caption>\n",
       "<thead>\n",
       "\t<tr><th scope=col>Grade</th><th scope=col>Gender</th><th scope=col>Age_at_diagnosis</th><th scope=col>Race</th><th scope=col>IDH1</th><th scope=col>TP53</th><th scope=col>ATRX</th><th scope=col>PTEN</th><th scope=col>EGFR</th><th scope=col>CIC</th><th scope=col>⋯</th><th scope=col>FUBP1</th><th scope=col>RB1</th><th scope=col>NOTCH1</th><th scope=col>BCOR</th><th scope=col>CSMD3</th><th scope=col>SMARCA4</th><th scope=col>GRIN2A</th><th scope=col>IDH2</th><th scope=col>FAT4</th><th scope=col>PDGFRA</th></tr>\n",
       "\t<tr><th scope=col>&lt;dbl&gt;</th><th scope=col>&lt;dbl&gt;</th><th scope=col>&lt;dbl&gt;</th><th scope=col>&lt;dbl&gt;</th><th scope=col>&lt;dbl&gt;</th><th scope=col>&lt;dbl&gt;</th><th scope=col>&lt;dbl&gt;</th><th scope=col>&lt;dbl&gt;</th><th scope=col>&lt;dbl&gt;</th><th scope=col>&lt;dbl&gt;</th><th scope=col>⋯</th><th scope=col>&lt;dbl&gt;</th><th scope=col>&lt;dbl&gt;</th><th scope=col>&lt;dbl&gt;</th><th scope=col>&lt;dbl&gt;</th><th scope=col>&lt;dbl&gt;</th><th scope=col>&lt;dbl&gt;</th><th scope=col>&lt;dbl&gt;</th><th scope=col>&lt;dbl&gt;</th><th scope=col>&lt;dbl&gt;</th><th scope=col>&lt;dbl&gt;</th></tr>\n",
       "</thead>\n",
       "<tbody>\n",
       "\t<tr><td>0</td><td>0</td><td>51.30</td><td>0</td><td>1</td><td>0</td><td>0</td><td>0</td><td>0</td><td>0</td><td>⋯</td><td>1</td><td>0</td><td>0</td><td>0</td><td>0</td><td>0</td><td>0</td><td>0</td><td>0</td><td>0</td></tr>\n",
       "\t<tr><td>0</td><td>0</td><td>38.72</td><td>0</td><td>1</td><td>0</td><td>0</td><td>0</td><td>0</td><td>1</td><td>⋯</td><td>0</td><td>0</td><td>0</td><td>0</td><td>0</td><td>0</td><td>0</td><td>0</td><td>0</td><td>0</td></tr>\n",
       "\t<tr><td>0</td><td>0</td><td>35.17</td><td>0</td><td>1</td><td>1</td><td>1</td><td>0</td><td>0</td><td>0</td><td>⋯</td><td>0</td><td>0</td><td>0</td><td>0</td><td>0</td><td>0</td><td>0</td><td>0</td><td>0</td><td>0</td></tr>\n",
       "\t<tr><td>0</td><td>1</td><td>32.78</td><td>0</td><td>1</td><td>1</td><td>1</td><td>0</td><td>0</td><td>0</td><td>⋯</td><td>0</td><td>0</td><td>0</td><td>0</td><td>0</td><td>0</td><td>0</td><td>0</td><td>1</td><td>0</td></tr>\n",
       "\t<tr><td>0</td><td>0</td><td>31.51</td><td>0</td><td>1</td><td>1</td><td>1</td><td>0</td><td>0</td><td>0</td><td>⋯</td><td>0</td><td>0</td><td>0</td><td>0</td><td>0</td><td>0</td><td>0</td><td>0</td><td>0</td><td>0</td></tr>\n",
       "\t<tr><td>0</td><td>1</td><td>33.21</td><td>0</td><td>1</td><td>0</td><td>1</td><td>0</td><td>0</td><td>0</td><td>⋯</td><td>0</td><td>0</td><td>0</td><td>0</td><td>0</td><td>0</td><td>0</td><td>0</td><td>0</td><td>0</td></tr>\n",
       "</tbody>\n",
       "</table>\n"
      ],
      "text/latex": [
       "A tibble: 6 × 24\n",
       "\\begin{tabular}{lllllllllllllllllllll}\n",
       " Grade & Gender & Age\\_at\\_diagnosis & Race & IDH1 & TP53 & ATRX & PTEN & EGFR & CIC & ⋯ & FUBP1 & RB1 & NOTCH1 & BCOR & CSMD3 & SMARCA4 & GRIN2A & IDH2 & FAT4 & PDGFRA\\\\\n",
       " <dbl> & <dbl> & <dbl> & <dbl> & <dbl> & <dbl> & <dbl> & <dbl> & <dbl> & <dbl> & ⋯ & <dbl> & <dbl> & <dbl> & <dbl> & <dbl> & <dbl> & <dbl> & <dbl> & <dbl> & <dbl>\\\\\n",
       "\\hline\n",
       "\t 0 & 0 & 51.30 & 0 & 1 & 0 & 0 & 0 & 0 & 0 & ⋯ & 1 & 0 & 0 & 0 & 0 & 0 & 0 & 0 & 0 & 0\\\\\n",
       "\t 0 & 0 & 38.72 & 0 & 1 & 0 & 0 & 0 & 0 & 1 & ⋯ & 0 & 0 & 0 & 0 & 0 & 0 & 0 & 0 & 0 & 0\\\\\n",
       "\t 0 & 0 & 35.17 & 0 & 1 & 1 & 1 & 0 & 0 & 0 & ⋯ & 0 & 0 & 0 & 0 & 0 & 0 & 0 & 0 & 0 & 0\\\\\n",
       "\t 0 & 1 & 32.78 & 0 & 1 & 1 & 1 & 0 & 0 & 0 & ⋯ & 0 & 0 & 0 & 0 & 0 & 0 & 0 & 0 & 1 & 0\\\\\n",
       "\t 0 & 0 & 31.51 & 0 & 1 & 1 & 1 & 0 & 0 & 0 & ⋯ & 0 & 0 & 0 & 0 & 0 & 0 & 0 & 0 & 0 & 0\\\\\n",
       "\t 0 & 1 & 33.21 & 0 & 1 & 0 & 1 & 0 & 0 & 0 & ⋯ & 0 & 0 & 0 & 0 & 0 & 0 & 0 & 0 & 0 & 0\\\\\n",
       "\\end{tabular}\n"
      ],
      "text/markdown": [
       "\n",
       "A tibble: 6 × 24\n",
       "\n",
       "| Grade &lt;dbl&gt; | Gender &lt;dbl&gt; | Age_at_diagnosis &lt;dbl&gt; | Race &lt;dbl&gt; | IDH1 &lt;dbl&gt; | TP53 &lt;dbl&gt; | ATRX &lt;dbl&gt; | PTEN &lt;dbl&gt; | EGFR &lt;dbl&gt; | CIC &lt;dbl&gt; | ⋯ ⋯ | FUBP1 &lt;dbl&gt; | RB1 &lt;dbl&gt; | NOTCH1 &lt;dbl&gt; | BCOR &lt;dbl&gt; | CSMD3 &lt;dbl&gt; | SMARCA4 &lt;dbl&gt; | GRIN2A &lt;dbl&gt; | IDH2 &lt;dbl&gt; | FAT4 &lt;dbl&gt; | PDGFRA &lt;dbl&gt; |\n",
       "|---|---|---|---|---|---|---|---|---|---|---|---|---|---|---|---|---|---|---|---|---|\n",
       "| 0 | 0 | 51.30 | 0 | 1 | 0 | 0 | 0 | 0 | 0 | ⋯ | 1 | 0 | 0 | 0 | 0 | 0 | 0 | 0 | 0 | 0 |\n",
       "| 0 | 0 | 38.72 | 0 | 1 | 0 | 0 | 0 | 0 | 1 | ⋯ | 0 | 0 | 0 | 0 | 0 | 0 | 0 | 0 | 0 | 0 |\n",
       "| 0 | 0 | 35.17 | 0 | 1 | 1 | 1 | 0 | 0 | 0 | ⋯ | 0 | 0 | 0 | 0 | 0 | 0 | 0 | 0 | 0 | 0 |\n",
       "| 0 | 1 | 32.78 | 0 | 1 | 1 | 1 | 0 | 0 | 0 | ⋯ | 0 | 0 | 0 | 0 | 0 | 0 | 0 | 0 | 1 | 0 |\n",
       "| 0 | 0 | 31.51 | 0 | 1 | 1 | 1 | 0 | 0 | 0 | ⋯ | 0 | 0 | 0 | 0 | 0 | 0 | 0 | 0 | 0 | 0 |\n",
       "| 0 | 1 | 33.21 | 0 | 1 | 0 | 1 | 0 | 0 | 0 | ⋯ | 0 | 0 | 0 | 0 | 0 | 0 | 0 | 0 | 0 | 0 |\n",
       "\n"
      ],
      "text/plain": [
       "  Grade Gender Age_at_diagnosis Race IDH1 TP53 ATRX PTEN EGFR CIC ⋯ FUBP1 RB1\n",
       "1 0     0      51.30            0    1    0    0    0    0    0   ⋯ 1     0  \n",
       "2 0     0      38.72            0    1    0    0    0    0    1   ⋯ 0     0  \n",
       "3 0     0      35.17            0    1    1    1    0    0    0   ⋯ 0     0  \n",
       "4 0     1      32.78            0    1    1    1    0    0    0   ⋯ 0     0  \n",
       "5 0     0      31.51            0    1    1    1    0    0    0   ⋯ 0     0  \n",
       "6 0     1      33.21            0    1    0    1    0    0    0   ⋯ 0     0  \n",
       "  NOTCH1 BCOR CSMD3 SMARCA4 GRIN2A IDH2 FAT4 PDGFRA\n",
       "1 0      0    0     0       0      0    0    0     \n",
       "2 0      0    0     0       0      0    0    0     \n",
       "3 0      0    0     0       0      0    0    0     \n",
       "4 0      0    0     0       0      0    1    0     \n",
       "5 0      0    0     0       0      0    0    0     \n",
       "6 0      0    0     0       0      0    0    0     "
      ]
     },
     "metadata": {},
     "output_type": "display_data"
    }
   ],
   "source": [
    "head(glioma_raw)"
   ]
  },
  {
   "cell_type": "markdown",
   "id": "eb4601a6",
   "metadata": {},
   "source": [
    "### 1.1.2 - Data Preprocessing"
   ]
  },
  {
   "cell_type": "code",
   "execution_count": 4,
   "id": "046c720f",
   "metadata": {
    "vscode": {
     "languageId": "r"
    }
   },
   "outputs": [
    {
     "data": {
      "text/html": [
       "<table class=\"dataframe\">\n",
       "<caption>A tibble: 6 × 4</caption>\n",
       "<thead>\n",
       "\t<tr><th scope=col>Grade</th><th scope=col>Gender</th><th scope=col>Age_at_diagnosis</th><th scope=col>EGFR</th></tr>\n",
       "\t<tr><th scope=col>&lt;dbl&gt;</th><th scope=col>&lt;dbl&gt;</th><th scope=col>&lt;dbl&gt;</th><th scope=col>&lt;dbl&gt;</th></tr>\n",
       "</thead>\n",
       "<tbody>\n",
       "\t<tr><td>0</td><td>0</td><td>51.30</td><td>0</td></tr>\n",
       "\t<tr><td>0</td><td>0</td><td>38.72</td><td>0</td></tr>\n",
       "\t<tr><td>0</td><td>0</td><td>35.17</td><td>0</td></tr>\n",
       "\t<tr><td>0</td><td>1</td><td>32.78</td><td>0</td></tr>\n",
       "\t<tr><td>0</td><td>0</td><td>31.51</td><td>0</td></tr>\n",
       "\t<tr><td>0</td><td>1</td><td>33.21</td><td>0</td></tr>\n",
       "</tbody>\n",
       "</table>\n"
      ],
      "text/latex": [
       "A tibble: 6 × 4\n",
       "\\begin{tabular}{llll}\n",
       " Grade & Gender & Age\\_at\\_diagnosis & EGFR\\\\\n",
       " <dbl> & <dbl> & <dbl> & <dbl>\\\\\n",
       "\\hline\n",
       "\t 0 & 0 & 51.30 & 0\\\\\n",
       "\t 0 & 0 & 38.72 & 0\\\\\n",
       "\t 0 & 0 & 35.17 & 0\\\\\n",
       "\t 0 & 1 & 32.78 & 0\\\\\n",
       "\t 0 & 0 & 31.51 & 0\\\\\n",
       "\t 0 & 1 & 33.21 & 0\\\\\n",
       "\\end{tabular}\n"
      ],
      "text/markdown": [
       "\n",
       "A tibble: 6 × 4\n",
       "\n",
       "| Grade &lt;dbl&gt; | Gender &lt;dbl&gt; | Age_at_diagnosis &lt;dbl&gt; | EGFR &lt;dbl&gt; |\n",
       "|---|---|---|---|\n",
       "| 0 | 0 | 51.30 | 0 |\n",
       "| 0 | 0 | 38.72 | 0 |\n",
       "| 0 | 0 | 35.17 | 0 |\n",
       "| 0 | 1 | 32.78 | 0 |\n",
       "| 0 | 0 | 31.51 | 0 |\n",
       "| 0 | 1 | 33.21 | 0 |\n",
       "\n"
      ],
      "text/plain": [
       "  Grade Gender Age_at_diagnosis EGFR\n",
       "1 0     0      51.30            0   \n",
       "2 0     0      38.72            0   \n",
       "3 0     0      35.17            0   \n",
       "4 0     1      32.78            0   \n",
       "5 0     0      31.51            0   \n",
       "6 0     1      33.21            0   "
      ]
     },
     "metadata": {},
     "output_type": "display_data"
    }
   ],
   "source": [
    "# Wrangling data to filter out unknowns and select variables of interest\n",
    "glioma <- glioma_raw %>%\n",
    "    filter(!is.na(Age_at_diagnosis),\n",
    "           !is.na(Grade),\n",
    "           !is.na(Gender),\n",
    "           !is.na(EGFR)) %>%\n",
    "    select(Grade, Gender, Age_at_diagnosis, EGFR)\n",
    "\n",
    "head(glioma)"
   ]
  },
  {
   "cell_type": "code",
   "execution_count": 5,
   "id": "e1d4a21e-9343-4dfe-b3ae-6cded59f697f",
   "metadata": {},
   "outputs": [
    {
     "data": {
      "text/html": [
       "<table class=\"dataframe\">\n",
       "<caption>A tibble: 1 × 3</caption>\n",
       "<thead>\n",
       "\t<tr><th scope=col>Number of Grade 0 Patients</th><th scope=col>Number of Grade 1 Patients</th><th scope=col>Total Number of Observations</th></tr>\n",
       "\t<tr><th scope=col>&lt;int&gt;</th><th scope=col>&lt;int&gt;</th><th scope=col>&lt;int&gt;</th></tr>\n",
       "</thead>\n",
       "<tbody>\n",
       "\t<tr><td>487</td><td>352</td><td>839</td></tr>\n",
       "</tbody>\n",
       "</table>\n"
      ],
      "text/latex": [
       "A tibble: 1 × 3\n",
       "\\begin{tabular}{lll}\n",
       " Number of Grade 0 Patients & Number of Grade 1 Patients & Total Number of Observations\\\\\n",
       " <int> & <int> & <int>\\\\\n",
       "\\hline\n",
       "\t 487 & 352 & 839\\\\\n",
       "\\end{tabular}\n"
      ],
      "text/markdown": [
       "\n",
       "A tibble: 1 × 3\n",
       "\n",
       "| Number of Grade 0 Patients &lt;int&gt; | Number of Grade 1 Patients &lt;int&gt; | Total Number of Observations &lt;int&gt; |\n",
       "|---|---|---|\n",
       "| 487 | 352 | 839 |\n",
       "\n"
      ],
      "text/plain": [
       "  Number of Grade 0 Patients Number of Grade 1 Patients\n",
       "1 487                        352                       \n",
       "  Total Number of Observations\n",
       "1 839                         "
      ]
     },
     "metadata": {},
     "output_type": "display_data"
    }
   ],
   "source": [
    "#Finding number of Grade 0, Grade 1 and total number observations\n",
    "summary <- glioma %>%\n",
    "group_by(Grade) %>%\n",
    "summarize(count = n())\n",
    "\n",
    "data_summary <- tibble(\"Number of Grade 0 Patients\" = summary$count[1],\n",
    "                       \"Number of Grade 1 Patients\" = summary$count[2],\n",
    "                       \"Total Number of Observations\" = nrow(glioma))\n",
    "data_summary"
   ]
  },
  {
   "cell_type": "markdown",
   "id": "5bb10d75-a597-4dbe-af97-30e4219ab092",
   "metadata": {},
   "source": [
    "### 1.1.3 - Project Questions\n",
    "In this study we are interested in two things:  \n",
    "1. Is there a difference in the proportions of patients with EGFR gene mutation between high grade and low grade groups?\n",
    "2. Is there a difference in the average age of diagnosis between high grade and low grade glioma?"
   ]
  },
  {
   "cell_type": "markdown",
   "id": "43be313d-7661-4b6a-b2bc-44c576e72c92",
   "metadata": {},
   "source": [
    "#### Preliminary Results for Question 1 - EGFR Mutation Proportions and Glioma Grade"
   ]
  },
  {
   "cell_type": "code",
   "execution_count": 6,
   "id": "2c72a483-58f1-4404-974b-1d3e1739fee8",
   "metadata": {
    "vscode": {
     "languageId": "r"
    }
   },
   "outputs": [],
   "source": [
    "set.seed(1)\n",
    "# Create a bootstrap distribution of mutated EGFR gene proportions \n",
    "egfr_virtual_bootstrap_dist <- glioma %>%\n",
    "    mutate(EGFR = as.factor(EGFR)) %>%\n",
    "    specify(response = EGFR, success = '1') %>%\n",
    "    generate(type = 'bootstrap', reps = 10000) %>%\n",
    "    calculate(stat = 'prop') \n",
    "\n",
    "# Create a bootstrap distribution of mutated EGFR gene proportions of the low-grade glioma \n",
    "egfr_virtual_samples_0 <- glioma %>%\n",
    "    filter(Grade == 0) %>%\n",
    "    mutate(EGFR = as.factor(EGFR)) %>%\n",
    "    specify(response = EGFR, success = '1') %>%\n",
    "    generate(type = 'bootstrap', reps = 10000) %>%\n",
    "    calculate(stat = 'prop') %>%\n",
    "    cbind(Grade = rep(0, 10000))\n",
    "\n",
    "# Create a bootstrap distribution of a mutated EGFR gene proportions of the high-grade glioma\n",
    "egfr_virtual_samples_1 <- glioma %>%\n",
    "    filter(Grade == 1) %>%\n",
    "    mutate(EGFR = as.factor(EGFR)) %>%\n",
    "    specify(response = EGFR, success = '1') %>%\n",
    "    generate(type = 'bootstrap', reps = 10000) %>%\n",
    "    calculate(stat = 'prop') %>%\n",
    "    cbind(Grade = rep(1, 10000))\n",
    "\n",
    "# Combine the two bootstrap distributions into one dataframe \n",
    "egfr_virtual_samples_by_label <- rbind(egfr_virtual_samples_0, egfr_virtual_samples_1) %>%\n",
    "    mutate(Grade = as.factor(Grade))"
   ]
  },
  {
   "cell_type": "markdown",
   "id": "542d88b9-af25-4d76-8238-e772e7f55be2",
   "metadata": {},
   "source": [
    "Generate plots for the samples generated above"
   ]
  },
  {
   "cell_type": "code",
   "execution_count": 7,
   "id": "c292e21b-2e75-4c6c-9209-258baadee34d",
   "metadata": {
    "vscode": {
     "languageId": "r"
    }
   },
   "outputs": [],
   "source": [
    "# The plot of bootstrap samples by label\n",
    "plot_by_label <- egfr_virtual_samples_by_label %>%\n",
    "    ggplot() + \n",
    "    geom_histogram(aes(x = stat, fill = Grade), bins = 40) + \n",
    "    xlab(\"Proportion of EGFR Mutations of Bootstrap Samples\") + \n",
    "    ggtitle(\"Bootstrap Distribution of EGFR Mutation Proportions by Glioma Grade\") + \n",
    "    theme(text = element_text(size = 16))\n",
    "\n",
    "# The plot of bootstrap samples holistically \n",
    "plot_entire <- egfr_virtual_bootstrap_dist %>%\n",
    "    ggplot() + \n",
    "    geom_histogram(aes(x = stat), bins = 40) + \n",
    "    xlab(\"Proportion of EGFR Mutations of Bootstrap Samples\") + \n",
    "    ggtitle(\"Bootstrap Distribution of EGFR Mutation Proportions by Glioma Grade\") + \n",
    "    theme(text = element_text(size = 16))"
   ]
  },
  {
   "cell_type": "code",
   "execution_count": 8,
   "id": "73e66ae9-cbbd-4f17-9793-e7c9b710cafc",
   "metadata": {
    "vscode": {
     "languageId": "r"
    }
   },
   "outputs": [
    {
     "data": {
      "image/png": "[encoded data removed]",
      "text/plain": [
       "plot without title"
      ]
     },
     "metadata": {
      "image/png": {
       "height": 420,
       "width": 960
      }
     },
     "output_type": "display_data"
    }
   ],
   "source": [
    "# Plot by grid\n",
    "options(repr.plot.width = 16)\n",
    "plot_grid(plot_entire, plot_by_label, labels = c('1A)', '1B)'), label_size = 24) "
   ]
  },
  {
   "cell_type": "markdown",
   "id": "b247a4ce-2133-4922-a94c-955091f0f9f2",
   "metadata": {},
   "source": [
    "**Figure 1A:** The bootstrap distribution of proportions of EGFR mutations in glioma patients. The mean is around 14%, with approximately 14% of glioma patients have an EGFR gene mutation.  \n",
    "**Figure 1B:** The bootstrap distribution of proportions of EGFR mutations in low grade vs high grade glioma patients. The mean for low-grade glioma patients is roughly 7%, and the mean for high-grade glioma patients is roughly 24%. This may suggest that EGFR mutations are associated with higher-grade glioma."
   ]
  },
  {
   "cell_type": "markdown",
   "id": "178820f3-4c99-4891-93e9-e72f4a5321d4",
   "metadata": {},
   "source": [
    "#### Preliminary Results for Question 2 - Patient Age at Diagnosis and Glioma Grade"
   ]
  },
  {
   "cell_type": "code",
   "execution_count": 9,
   "id": "0cf80025-89c5-469e-903e-ac1440d48238",
   "metadata": {
    "vscode": {
     "languageId": "r"
    }
   },
   "outputs": [],
   "source": [
    "set.seed(1)\n",
    "# Create a bootstrap distribution of mutated EGFR gene proportions of the low-grade glioma \n",
    "age_virtual_samples_0 <- glioma %>%\n",
    "    filter(Grade == 0) %>%\n",
    "    specify(response = Age_at_diagnosis) %>%\n",
    "    generate(type = 'bootstrap', reps = 10000) %>%\n",
    "    calculate(stat = 'mean') %>%\n",
    "    cbind(Grade = rep(0, 10000))\n",
    "\n",
    "# Create a bootstrap distribution of a mutated EGFR gene proportions of the high-grade glioma\n",
    "age_virtual_samples_1 <- glioma %>%\n",
    "    filter(Grade == 1) %>%\n",
    "    specify(response = Age_at_diagnosis) %>%\n",
    "    generate(type = 'bootstrap', reps = 10000) %>%\n",
    "    calculate(stat = 'mean') %>%\n",
    "    cbind(Grade = rep(1, 10000))\n",
    "\n",
    "# Combine the two bootstrap distributions into one dataframe \n",
    "age_virtual_samples <- rbind(age_virtual_samples_0, age_virtual_samples_1) %>%\n",
    "    mutate(Grade = as.factor(Grade))"
   ]
  },
  {
   "cell_type": "markdown",
   "id": "db2fa3db-0602-4b6d-9871-6b85cd84a646",
   "metadata": {},
   "source": [
    "Generate the resulting plots for the samples generated above with the `infer` package workflow. "
   ]
  },
  {
   "cell_type": "code",
   "execution_count": 10,
   "id": "a71c149f-b2fc-4432-b831-e5276475a001",
   "metadata": {
    "vscode": {
     "languageId": "r"
    }
   },
   "outputs": [],
   "source": [
    "# Sample distribution plot of age at diagnosis\n",
    "age_sample_dist <- glioma %>%\n",
    "    filter(!is.na(Age_at_diagnosis)) %>%\n",
    "    mutate(Grade = as.factor(Grade)) %>%\n",
    "    ggplot() + \n",
    "    geom_histogram(aes(x = Age_at_diagnosis, fill = Grade), alpha = 0.75, bins = 39) + \n",
    "    xlab(\"Age of Diagnosis\") + \n",
    "    ggtitle(\"Sample Distribution of Age at Diagnosis of Glioma\") +\n",
    "    theme(text = element_text(size = 16))\n",
    "\n",
    "# Plot the resulting bootstrap distributions\n",
    "mean_age_bootstrap_dist <- age_virtual_samples %>%\n",
    "    ggplot() + \n",
    "    geom_histogram(aes(x = stat, fill = Grade), bins = 35) + \n",
    "    xlab(\"Mean Age at Diagnosis of Bootstrap Samples\") + \n",
    "    ggtitle(\"Bootstrap Distribution of Age at Diagnosis by Glioma Grade\") + \n",
    "    theme(text = element_text(size = 16))"
   ]
  },
  {
   "cell_type": "code",
   "execution_count": 11,
   "id": "816bc5d8-f2c8-4c45-ac5c-7086affb0621",
   "metadata": {
    "vscode": {
     "languageId": "r"
    }
   },
   "outputs": [
    {
     "data": {
      "image/png": "[encoded data removed]",
      "text/plain": [
       "plot without title"
      ]
     },
     "metadata": {
      "image/png": {
       "height": 420,
       "width": 960
      }
     },
     "output_type": "display_data"
    }
   ],
   "source": [
    "options(repr.plot.width = 16)\n",
    "plot_grid(age_sample_dist, mean_age_bootstrap_dist, labels = c('2A)', '2B)'), label_size = 24)"
   ]
  },
  {
   "cell_type": "markdown",
   "id": "aa494dcc-d88e-4131-b859-d3c2cfa38ccd",
   "metadata": {},
   "source": [
    "**Figure 2A:** The sample distribution of patients ages at the time of glioma diagnosis as encoded in the `Age_at_diagnosis` feature. The histograms are color coded by the glioma grade, where the red histogram indicates low grade glioma, and the cyan histogram displays the distribution of high grade glioma. The purpose of this visualization is to explore whether the sample distribution of patient age at diagnosis reveals anything about their glioma grade. For example, patients diagnosed at a later age may have a higher grade glioma. The distribution has quite a wide range, ranging from about 12 to over 85 years of age. We see majority of the high-grade glioma diagnoses are on the higher end of the distribution, whereas the lower grade gliomas are spread across in what seems to be a bimodal distribution.  \n",
    "**Figure 2B:** The bootstrap distribution of patients mean age taken from 10,000 bootstrap samples. The mean age of diagnosis for patients with low grade glioma seems to be around 44, and the mean age of diagnosis for high grade glioma patients is around 61. "
   ]
  },
  {
   "cell_type": "markdown",
   "id": "3ac76bb4-e0f7-499a-9d75-6236579ed4b8",
   "metadata": {},
   "source": [
    "### 1.1.4 - Summary of Test Statistics of Interest"
   ]
  },
  {
   "cell_type": "code",
   "execution_count": 12,
   "id": "20a68d29-a0e8-4bfa-b9c7-48f8104cc44d",
   "metadata": {
    "vscode": {
     "languageId": "r"
    }
   },
   "outputs": [],
   "source": [
    "egfr_bootstrap_mean_0 <- mean(egfr_virtual_samples_0$stat)\n",
    "egfr_bootstrap_mean_1 <- mean(egfr_virtual_samples_1$stat)\n",
    "age_bootstrap_mean_0 <- mean(age_virtual_samples_0$stat)\n",
    "age_bootstrap_mean_1 <- mean(age_virtual_samples_1$stat)"
   ]
  },
  {
   "cell_type": "code",
   "execution_count": 13,
   "id": "23fa671b-cfe2-4e92-ad8a-9e6dd4d360bb",
   "metadata": {
    "vscode": {
     "languageId": "r"
    }
   },
   "outputs": [
    {
     "data": {
      "text/html": [
       "<table class=\"dataframe\">\n",
       "<caption>A data.frame: 2 × 2</caption>\n",
       "<thead>\n",
       "\t<tr><th></th><th scope=col>Low-grade Glioma Patients</th><th scope=col>High-grade Glioma Patients</th></tr>\n",
       "\t<tr><th></th><th scope=col>&lt;dbl&gt;</th><th scope=col>&lt;dbl&gt;</th></tr>\n",
       "</thead>\n",
       "<tbody>\n",
       "\t<tr><th scope=row>Proportion EGFR Mutated (p)</th><td> 0.06359671</td><td> 0.2303014</td></tr>\n",
       "\t<tr><th scope=row>Age of Diagnosis (a)</th><td>43.87730392</td><td>60.7097155</td></tr>\n",
       "</tbody>\n",
       "</table>\n"
      ],
      "text/latex": [
       "A data.frame: 2 × 2\n",
       "\\begin{tabular}{r|ll}\n",
       "  & Low-grade Glioma Patients & High-grade Glioma Patients\\\\\n",
       "  & <dbl> & <dbl>\\\\\n",
       "\\hline\n",
       "\tProportion EGFR Mutated (p) &  0.06359671 &  0.2303014\\\\\n",
       "\tAge of Diagnosis (a) & 43.87730392 & 60.7097155\\\\\n",
       "\\end{tabular}\n"
      ],
      "text/markdown": [
       "\n",
       "A data.frame: 2 × 2\n",
       "\n",
       "| <!--/--> | Low-grade Glioma Patients &lt;dbl&gt; | High-grade Glioma Patients &lt;dbl&gt; |\n",
       "|---|---|---|\n",
       "| Proportion EGFR Mutated (p) |  0.06359671 |  0.2303014 |\n",
       "| Age of Diagnosis (a) | 43.87730392 | 60.7097155 |\n",
       "\n"
      ],
      "text/plain": [
       "                            Low-grade Glioma Patients\n",
       "Proportion EGFR Mutated (p)  0.06359671              \n",
       "Age of Diagnosis (a)        43.87730392              \n",
       "                            High-grade Glioma Patients\n",
       "Proportion EGFR Mutated (p)  0.2303014                \n",
       "Age of Diagnosis (a)        60.7097155                "
      ]
     },
     "metadata": {},
     "output_type": "display_data"
    }
   ],
   "source": [
    "summary.stat.table <- tibble(\n",
    "    \"Low-grade Glioma Patients\" = c(egfr_bootstrap_mean_0, age_bootstrap_mean_0),\n",
    "    \"High-grade Glioma Patients\" = c(egfr_bootstrap_mean_1, age_bootstrap_mean_1), \n",
    "    \"Rownames\" = c(\"Proportion EGFR Mutated (p)\", \"Age of Diagnosis (a)\")\n",
    "    )\n",
    "summary.stat.table <- summary.stat.table %>%\n",
    "    column_to_rownames(., var = 'Rownames')\n",
    "summary.stat.table"
   ]
  },
  {
   "cell_type": "markdown",
   "id": "6d5a151d-535d-4c5e-aacf-afa1d56cb219",
   "metadata": {},
   "source": [
    "At first glance, it seems there is a difference between the low-grade and high-grade glioma patients. To confirm, we will perform hypothesis testing with the following null hypotheses:  \n",
    "Test one: the proportion of patients with EGFR mutations, $p$:  \n",
    "* $H_0$: $p_{low-grade} = p_{high-grade}$  \n",
    "* $H_A$: $p_{low-grade} \\neq p_{high-grade}$  \n",
    "\n",
    "Test two: the age of diagnosis, $a$:\n",
    "* $H_0$: $\\bar x_{low-grade} = \\bar x_{high-grade}$\n",
    "* $H_A$: $\\bar x_{low-grade} \\neq \\bar x_{high-grade}$"
   ]
  },
  {
   "cell_type": "markdown",
   "id": "55a6fd03-9ec8-4471-8d58-946b2d53a246",
   "metadata": {},
   "source": [
    "#### Based on preliminary results, the following patterns are visible: \n",
    "1. The proportion of GBM patients with EGFR mutation > proportion of LGG patients with EGFR mutation\n",
    "2. At the time of diagnosis, the mean age of GBM patients > the mean age of LGG patients  \n",
    "\n",
    "#### Expected Findings\n",
    "With hypothesis testing, it can be stated that these factors are correlated with glioma grade. The significance of this study is three-fold. First, this may provide an entry-point to genetic and metabolic studies to better understand the pathophysiology of glioma. Second, the tests regarding age at time of diagnosis may contribute to understanding people who may be at higher risk and how the disease develops. Lastly, studying these factors can contribute to screening methods for early detection and better patient prognsis. \n",
    "\n",
    "#### For the actual hypothesis testing the following procedure will be used:\n",
    "\n",
    "For the first question, is there a difference in proportion of those with the EGFR mutation between individuals with high grade versus low grade glioma, we have opted to use a bootstrap analysis. Although with this sample, this analysis could be done using CLT since it follows the $np > 10$ and $n(1-p) > 10$ rules, however since this case is close to the borderline with $np = 21$ for low grade glioma paitients with the EGFR mutations, we decided to use bootstrapping instead for a more reliable and simpler analysis. \n",
    "\n",
    "The following steps will be used:\n",
    "\n",
    "1. Using the infer workflow, calculate the difference in proportion from the sample\n",
    "\n",
    "2. Generate a simulated population assuming the null hypothesis is true, so the difference in proportions of the sampling distribution is ceneter around 0\n",
    "\n",
    "3. Visulaize this distribution and calculate the p-value using the test statistic from before \n",
    "\n",
    "4. Based on the p-value and our sigificance level of 0.05, we can either accept or reject the null hypothesis and calculate a 95% confidence interval of the true population difference in proportions\n",
    "\n",
    "For the second question, is there a difference in the average age of diagnosis for the low grade and high grade glioma patients, we decided to use CLT analysis since we have a large enough sample size so the sampling distibution of the difference in means should converge to the normal distribution. However, since we do not have access to the population standard deviation, we will use the t-distribution to estimate the p-value and confidence intervals. \n",
    "\n",
    "To perform this analysis, the following steps will be used:\n",
    "\n",
    "1. First find the sample statistics for each grade like number of observations, the mean and the standard deviation for each group.\n",
    "\n",
    "2. Find the observed difference in means from the sample and calculate the pooled variance.\n",
    "\n",
    "3. Calculate the t-test statistic using the observed difference in means and pooled variance\n",
    "\n",
    "4. Since the population standard deviation is unknown, we must find the degrees of freedom using the formula,\n",
    "\n",
    "$$\n",
    "df = \\frac{(\\frac{s_1^2}{n_1}+\\frac{s_2^2}{n_2})^2}\n",
    "{(\\frac{1}{n_1-1})*(\\frac{s_1^2}{n_1})^2+(\\frac{1}{n_2-1})*(\\frac{s_2^2}{n_2})^2}\n",
    "$$  \n",
    "\n",
    "5. Calculate the p-value approximating with the t-distribution by using the pt() function and the observed test statistic and the degrees of freedom"
   ]
  },
  {
   "cell_type": "markdown",
   "id": "3e0a36dc",
   "metadata": {
    "tags": []
   },
   "source": [
    "## 1.2 - Hypothesis Testing"
   ]
  },
  {
   "cell_type": "markdown",
   "id": "544cbf1e",
   "metadata": {
    "tags": []
   },
   "source": [
    "### 1.2.1 - Using a Shuffled Sampling Distribution to Test Differences in Proportions of Patients with EGFR Mutation in High-Grade Glioma Cohort vs Low-Grade Glioma Cohort"
   ]
  },
  {
   "cell_type": "markdown",
   "id": "82594799-87cd-49ee-8c06-2b8104b66ff4",
   "metadata": {},
   "source": [
    "Here we use a permutation sampling distribution, or a simulation-based approach to test our hypotheses for **Question 1**, which is interested in whether there is a difference between the proportion of patients that have EGFR mutations in the high-grade glioma cohort compared to the low-grade glioma cohort. The next code cell generates the shuffled sampling distribution, to generate the null distribution and run the hypothesis test."
   ]
  },
  {
   "cell_type": "code",
   "execution_count": 14,
   "id": "34b73fe6-e92c-4ad6-a534-54b1c4097be7",
   "metadata": {},
   "outputs": [],
   "source": [
    "set.seed(1)\n",
    "\n",
    "# Converting numeric variable to factors, then calculating test statistic\n",
    "bootstrap_glioma <- glioma %>%\n",
    "    mutate(Grade= factor(Grade)) %>%\n",
    "    mutate(EGFR= factor(EGFR)) \n",
    "\n",
    "# Observed test statistic\n",
    "proportion_test_stat<- bootstrap_glioma %>% \n",
    "    specify(EGFR~ Grade, success= \"1\")%>%\n",
    "    calculate(stat= \"diff in props\", order= c(\"1\",\"0\")) %>%\n",
    "    pull()\n",
    "\n",
    "# Generating simulation based population\n",
    "null_dist <- bootstrap_glioma %>%\n",
    "    specify(EGFR ~ Grade, success= \"1\") %>%\n",
    "    hypothesize(null=\"independence\") %>%\n",
    "    generate(reps=10000, type= \"permute\") %>%\n",
    "    calculate(stat= \"diff in props\", order= c(\"1\",\"0\"))"
   ]
  },
  {
   "cell_type": "code",
   "execution_count": 15,
   "id": "771126fb-c782-4b59-ad31-d7b611035427",
   "metadata": {},
   "outputs": [
    {
     "data": {
      "image/png": "[encoded data removed]",
      "text/plain": [
       "plot without title"
      ]
     },
     "metadata": {
      "image/png": {
       "height": 420,
       "width": 960
      }
     },
     "output_type": "display_data"
    }
   ],
   "source": [
    "# Visualizing simulated distribution and shading the p-value using test statistic\n",
    "options(repr.plot.width = 16)\n",
    "prop_test_dist <- null_dist %>%\n",
    "    visualize(binwidth = 1) +\n",
    "    ggtitle(\"3) Simulation-Based Null Distribution of Differences in Proportion\") + \n",
    "    shade_p_value(obs_stat = as.numeric(proportion_test_stat), direction = \"both\")+\n",
    "    xlab(\"Difference in proportion\") + \n",
    "    theme(text = element_text(size = 24))\n",
    "prop_test_dist"
   ]
  },
  {
   "cell_type": "markdown",
   "id": "bfd16ae9-51f9-47bb-b7ee-fd2bca8edb4e",
   "metadata": {},
   "source": [
    "**Figure 3:** The bootstrap distribution of the difference in proportions, assuming the null hypothesis is true. The p-value is indicated by the red line and since it lies completely seperate from the distribution it indicates very low probability that the true difference in proportion will follow the null hypothesis"
   ]
  },
  {
   "cell_type": "code",
   "execution_count": 16,
   "id": "738e0710-289a-4b37-bc0b-ce02affb18c6",
   "metadata": {},
   "outputs": [
    {
     "name": "stderr",
     "output_type": "stream",
     "text": [
      "Warning message:\n",
      "\"Please be cautious in reporting a p-value of 0. This result is an approximation based on the number of `reps` chosen in the `generate()` step. See `?get_p_value()` for more information.\"\n"
     ]
    },
    {
     "data": {
      "text/html": [
       "<table class=\"dataframe\">\n",
       "<caption>A tibble: 1 × 1</caption>\n",
       "<thead>\n",
       "\t<tr><th scope=col>p_value</th></tr>\n",
       "\t<tr><th scope=col>&lt;dbl&gt;</th></tr>\n",
       "</thead>\n",
       "<tbody>\n",
       "\t<tr><td>0</td></tr>\n",
       "</tbody>\n",
       "</table>\n"
      ],
      "text/latex": [
       "A tibble: 1 × 1\n",
       "\\begin{tabular}{l}\n",
       " p\\_value\\\\\n",
       " <dbl>\\\\\n",
       "\\hline\n",
       "\t 0\\\\\n",
       "\\end{tabular}\n"
      ],
      "text/markdown": [
       "\n",
       "A tibble: 1 × 1\n",
       "\n",
       "| p_value &lt;dbl&gt; |\n",
       "|---|\n",
       "| 0 |\n",
       "\n"
      ],
      "text/plain": [
       "  p_value\n",
       "1 0      "
      ]
     },
     "metadata": {},
     "output_type": "display_data"
    }
   ],
   "source": [
    "# Finding numeric p-value\n",
    "p_value <- null_dist %>%\n",
    "    get_p_value(obs_stat = as.numeric(proportion_test_stat), direction = \"two_sided\")\n",
    "\n",
    "p_value"
   ]
  },
  {
   "cell_type": "markdown",
   "id": "1623aac0-6b86-4f89-ae30-be242e0f90c6",
   "metadata": {},
   "source": [
    "Now that we have the p-value, compute the 95% confidence interval of the difference in proportions."
   ]
  },
  {
   "cell_type": "code",
   "execution_count": 17,
   "id": "7322f738-c396-4a02-a626-1c43bc2c0e65",
   "metadata": {},
   "outputs": [
    {
     "data": {
      "text/html": [
       "<table class=\"dataframe\">\n",
       "<caption>A tibble: 1 × 2</caption>\n",
       "<thead>\n",
       "\t<tr><th scope=col>lower_ci</th><th scope=col>upper_ci</th></tr>\n",
       "\t<tr><th scope=col>&lt;dbl&gt;</th><th scope=col>&lt;dbl&gt;</th></tr>\n",
       "</thead>\n",
       "<tbody>\n",
       "\t<tr><td>0.1181648</td><td>0.2153274</td></tr>\n",
       "</tbody>\n",
       "</table>\n"
      ],
      "text/latex": [
       "A tibble: 1 × 2\n",
       "\\begin{tabular}{ll}\n",
       " lower\\_ci & upper\\_ci\\\\\n",
       " <dbl> & <dbl>\\\\\n",
       "\\hline\n",
       "\t 0.1181648 & 0.2153274\\\\\n",
       "\\end{tabular}\n"
      ],
      "text/markdown": [
       "\n",
       "A tibble: 1 × 2\n",
       "\n",
       "| lower_ci &lt;dbl&gt; | upper_ci &lt;dbl&gt; |\n",
       "|---|---|\n",
       "| 0.1181648 | 0.2153274 |\n",
       "\n"
      ],
      "text/plain": [
       "  lower_ci  upper_ci \n",
       "1 0.1181648 0.2153274"
      ]
     },
     "metadata": {},
     "output_type": "display_data"
    }
   ],
   "source": [
    "set.seed(1)\n",
    "\n",
    "# Creating a bootstrap distribution of the sample difference in proportion\n",
    "bootstrap_dist <- bootstrap_glioma %>%\n",
    "    specify(EGFR ~ Grade, success= \"1\") %>%\n",
    "    generate(reps=10000, type= \"bootstrap\") %>%\n",
    "    calculate(stat= \"diff in props\", order= c(\"1\",\"0\")) \n",
    "\n",
    "# Calculating a 95% confidence interval for the true difference in proportion\n",
    "ci <- bootstrap_dist %>%\n",
    "    get_ci()\n",
    "ci"
   ]
  },
  {
   "cell_type": "code",
   "execution_count": 18,
   "id": "2caa9382-4594-40db-b937-a4d4d7bd9dd7",
   "metadata": {},
   "outputs": [
    {
     "data": {
      "image/png": "[encoded data removed]",
      "text/plain": [
       "plot without title"
      ]
     },
     "metadata": {
      "image/png": {
       "height": 420,
       "width": 960
      }
     },
     "output_type": "display_data"
    }
   ],
   "source": [
    "options(repr.plot.width = 16)\n",
    "bootstrap_dist_plot <- bootstrap_dist %>%\n",
    "    visualize() +\n",
    "    ggtitle(\"4) The 95% Confidence Interval for Differences in Proportion\") +\n",
    "    shade_ci(endpoints = ci) + \n",
    "    xlab(\"Difference in Proportion\") + \n",
    "    theme(text = element_text(size = 24))\n",
    "\n",
    "bootstrap_dist_plot"
   ]
  },
  {
   "cell_type": "markdown",
   "id": "d3bd6ac8-c131-4e53-ab80-342098759f52",
   "metadata": {},
   "source": [
    "**Figure 4:** Bootstrap distribution of the actual difference in proportion between the two populations with the 95% confidence interval shaded."
   ]
  },
  {
   "cell_type": "markdown",
   "id": "b3aa6937-f84b-4a7d-9268-71b214d6ff28",
   "metadata": {},
   "source": [
    "**Results For Question 1**  \n",
    "diff = Difference in proportions of high-grade glioma patients with EGFR patients and low-grade glioma patients with EGFR patients  \n",
    "$diff = 0.166 \\pm 0.049$"
   ]
  },
  {
   "cell_type": "markdown",
   "id": "1e6dfcf9",
   "metadata": {
    "tags": []
   },
   "source": [
    "### 1.2.2 - Using Theory-Based Methods to Test Difference in Mean Age at Diagnosis for Low-Grade Glioma Patients and High-Grade Glioma Patients"
   ]
  },
  {
   "cell_type": "code",
   "execution_count": 19,
   "id": "081c4c3f",
   "metadata": {
    "vscode": {
     "languageId": "r"
    }
   },
   "outputs": [],
   "source": [
    "alpha <- 0.05"
   ]
  },
  {
   "cell_type": "code",
   "execution_count": 20,
   "id": "d19329e8",
   "metadata": {
    "vscode": {
     "languageId": "r"
    }
   },
   "outputs": [],
   "source": [
    "# Calculating summary statistics for each grade\n",
    "t2_summary <- glioma %>%\n",
    "    group_by(Grade) %>%\n",
    "    summarize(grade_n = n(), age_mu = mean(Age_at_diagnosis), age_sd = sd(Age_at_diagnosis))\n",
    "\n",
    "# Storing values for each grade is separate objects\n",
    "t2_grade_0_summary <- t2_summary[1, ]\n",
    "t2_grade_1_summary <- t2_summary[2, ]\n",
    "\n",
    "# Calculating the difference in means and the pooled variance\n",
    "t2_diff_mean <- t2_grade_0_summary$age_mu - t2_grade_1_summary$age_mu\n",
    "t2_var <- t2_grade_0_summary$age_sd^2 / t2_grade_0_summary$grade_n + t2_grade_1_summary$age_sd^2 / t2_grade_1_summary$grade_n\n",
    "\n",
    "# Calculating t-test statistic\n",
    "t2_T <- t2_diff_mean / sqrt(t2_var)\n",
    "\n",
    "# Finding the degrees of freedom for two populations with unknown standard deviations\n",
    "t2_df <- t2_var^2 / (t2_grade_0_summary$age_sd^4 / (t2_grade_0_summary$grade_n^2 * (t2_grade_0_summary$grade_n - 1)) + t2_grade_1_summary$age_sd^2 / (t2_grade_1_summary$grade_n^2 * (t2_grade_1_summary$grade_n - 1)))\n",
    "\n",
    "#Calculating the p-value using the t-distribution with the test statistic and degrees of freedom\n",
    "t2_p <- 2 * pt(t2_T, t2_df, lower.tail = T)"
   ]
  },
  {
   "cell_type": "code",
   "execution_count": 21,
   "id": "938f162b",
   "metadata": {
    "vscode": {
     "languageId": "r"
    }
   },
   "outputs": [
    {
     "name": "stdout",
     "output_type": "stream",
     "text": [
      "With a t-value of -18.0081276241434, a p_value of 1.09453670541347e-68 was found\n",
      "This is more significant than the 0.05 set as the significance level\n"
     ]
    }
   ],
   "source": [
    "print(str_glue(\"With a t-value of {t2_T}, a p_value of {t2_p} was found\"))\n",
    "print(str_glue(\"This is{if(t2_p < alpha) '' else ' not'} more significant than the {alpha} set as the significance level\"))"
   ]
  },
  {
   "cell_type": "code",
   "execution_count": 22,
   "id": "3fe934f8",
   "metadata": {
    "vscode": {
     "languageId": "r"
    }
   },
   "outputs": [],
   "source": [
    "# Finding the confidence intervals for average age of diagnosis for each grade of glioma\n",
    "ci_grade0 <- t2_grade_0_summary %>%\n",
    "    summarize(\n",
    "        lower_ci = qt(0.05, t2_df) * age_sd / sqrt(grade_n) + age_mu,\n",
    "        upper_ci = qt(0.95, t2_df) * age_sd / sqrt(grade_n) + age_mu\n",
    "    ) %>%\n",
    "mutate(grade = 0)\n",
    "\n",
    "ci_grade1 <- t2_grade_1_summary %>%\n",
    "    summarize(\n",
    "        lower_ci = qt(0.05, t2_df) * age_sd / sqrt(grade_n) + age_mu,\n",
    "        upper_ci = qt(0.95, t2_df) * age_sd / sqrt(grade_n) + age_mu\n",
    "    ) %>%\n",
    "mutate(grade = 1)"
   ]
  },
  {
   "cell_type": "code",
   "execution_count": 23,
   "id": "ca723036-354c-48cc-884f-909fd0c8227d",
   "metadata": {},
   "outputs": [
    {
     "data": {
      "text/html": [
       "<table class=\"dataframe\">\n",
       "<caption>A tibble: 2 × 3</caption>\n",
       "<thead>\n",
       "\t<tr><th scope=col>lower_ci</th><th scope=col>upper_ci</th><th scope=col>grade</th></tr>\n",
       "\t<tr><th scope=col>&lt;dbl&gt;</th><th scope=col>&lt;dbl&gt;</th><th scope=col>&lt;dbl&gt;</th></tr>\n",
       "</thead>\n",
       "<tbody>\n",
       "\t<tr><td>42.88613</td><td>44.86372</td><td>0</td></tr>\n",
       "\t<tr><td>59.52619</td><td>61.88131</td><td>1</td></tr>\n",
       "</tbody>\n",
       "</table>\n"
      ],
      "text/latex": [
       "A tibble: 2 × 3\n",
       "\\begin{tabular}{lll}\n",
       " lower\\_ci & upper\\_ci & grade\\\\\n",
       " <dbl> & <dbl> & <dbl>\\\\\n",
       "\\hline\n",
       "\t 42.88613 & 44.86372 & 0\\\\\n",
       "\t 59.52619 & 61.88131 & 1\\\\\n",
       "\\end{tabular}\n"
      ],
      "text/markdown": [
       "\n",
       "A tibble: 2 × 3\n",
       "\n",
       "| lower_ci &lt;dbl&gt; | upper_ci &lt;dbl&gt; | grade &lt;dbl&gt; |\n",
       "|---|---|---|\n",
       "| 42.88613 | 44.86372 | 0 |\n",
       "| 59.52619 | 61.88131 | 1 |\n",
       "\n"
      ],
      "text/plain": [
       "  lower_ci upper_ci grade\n",
       "1 42.88613 44.86372 0    \n",
       "2 59.52619 61.88131 1    "
      ]
     },
     "metadata": {},
     "output_type": "display_data"
    }
   ],
   "source": [
    "ci_summary <- rbind(ci_grade0, ci_grade1)\n",
    "ci_summary"
   ]
  },
  {
   "cell_type": "code",
   "execution_count": 24,
   "id": "9ef89537-fc8c-4a81-ba2e-83bcab006d91",
   "metadata": {},
   "outputs": [
    {
     "data": {
      "text/html": [
       "<table class=\"dataframe\">\n",
       "<caption>A tibble: 2 × 4</caption>\n",
       "<thead>\n",
       "\t<tr><th scope=col>Grade</th><th scope=col>grade_n</th><th scope=col>age_mu</th><th scope=col>age_sd</th></tr>\n",
       "\t<tr><th scope=col>&lt;dbl&gt;</th><th scope=col>&lt;int&gt;</th><th scope=col>&lt;dbl&gt;</th><th scope=col>&lt;dbl&gt;</th></tr>\n",
       "</thead>\n",
       "<tbody>\n",
       "\t<tr><td>0</td><td>487</td><td>43.87493</td><td>13.26173</td></tr>\n",
       "\t<tr><td>1</td><td>352</td><td>60.70375</td><td>13.42708</td></tr>\n",
       "</tbody>\n",
       "</table>\n"
      ],
      "text/latex": [
       "A tibble: 2 × 4\n",
       "\\begin{tabular}{llll}\n",
       " Grade & grade\\_n & age\\_mu & age\\_sd\\\\\n",
       " <dbl> & <int> & <dbl> & <dbl>\\\\\n",
       "\\hline\n",
       "\t 0 & 487 & 43.87493 & 13.26173\\\\\n",
       "\t 1 & 352 & 60.70375 & 13.42708\\\\\n",
       "\\end{tabular}\n"
      ],
      "text/markdown": [
       "\n",
       "A tibble: 2 × 4\n",
       "\n",
       "| Grade &lt;dbl&gt; | grade_n &lt;int&gt; | age_mu &lt;dbl&gt; | age_sd &lt;dbl&gt; |\n",
       "|---|---|---|---|\n",
       "| 0 | 487 | 43.87493 | 13.26173 |\n",
       "| 1 | 352 | 60.70375 | 13.42708 |\n",
       "\n"
      ],
      "text/plain": [
       "  Grade grade_n age_mu   age_sd  \n",
       "1 0     487     43.87493 13.26173\n",
       "2 1     352     60.70375 13.42708"
      ]
     },
     "metadata": {},
     "output_type": "display_data"
    }
   ],
   "source": [
    "t2_summary"
   ]
  },
  {
   "cell_type": "markdown",
   "id": "8f0498d0-6ed5-48b6-9711-5789dd00b053",
   "metadata": {},
   "source": [
    "**Results of Question 2**  \n",
    "$\\mu_{low-grade} = 43.87 \\pm 0.989$  \n",
    "$\\mu_{high-grade} = 60.70 \\pm 1.18$"
   ]
  },
  {
   "cell_type": "markdown",
   "id": "ba3a3c9f",
   "metadata": {
    "tags": []
   },
   "source": [
    "# 2 - Discussion"
   ]
  },
  {
   "cell_type": "markdown",
   "id": "3c287429-9091-4363-9829-27bfcf95c7ce",
   "metadata": {
    "vscode": {
     "languageId": "r"
    }
   },
   "source": [
    "**Summary of Results**  \n",
    "For our [first question](#1.1.3---Project-Questions), a hypothesis test was performed using a simulation-based approach. The results indicate that there is, indeed, a difference in the proportions of EGFR gene mutations in high-grade glioma patients as compared to low-grade glioma patients. The results are as follows: \n",
    "* At a significance level of 0.05, based on the p-value, we **reject the null hypothesis**\n",
    "* The 95% confidence interval of the difference in proportions is 0.118 - 0.215 \n",
    "\n",
    "For the [second question](#1.1.3---Project-Questions), a hypothesis test was performed using the theoretical approach. To test whether there is a difference in the mean age of diagnosis for high-grade vs low-grade glioma, a difference in means test is performed. The results are as follows:\n",
    "* At a significance level of 0.05, based on the p-value, we **reject the null hypothesis** \n",
    "* The 95% confidence interval for the mean age of diagnosis of low-grade glioma patients is 42.89 - 44.86\n",
    "* The 95% confidence interval for the mean age of diagnosis of high-grade glioma patients is 59.53 - 61.88  \n",
    "\n",
    "**Comparison to Expected Findings**  \n",
    "Our findings match what we expected to find, as defined [here](#Expected-Findings). From the results of question 1, this may indicate that EGFR mutations are likely related to high-grade glioma. We cannot draw the conclusion that there are any causal relationships between high-grade glioma and EGFR mutations, but it may be useful as an explanatory variable in predictive tasks. Drawing conclusions about causal relationships or building predictive models is outside the scope of this project. Our second result indicates that the difference in age of diagnosis is also statistically significant between the two glioma-grades. This result suggests that age may also play a role in the development of high-grade gliomas.   \n",
    "\n",
    "**Future Directions**  \n",
    "Our project identified statistically significant differences between low-grade glioma and high-grade glioma patients for the clinical variables age at diagnosis, and EGFR mutations. As briefly noted above, we can’t draw conclusions regarding causal relationships, but these factors may be useful as predictive variables in prediction tasks. Therefore some future directions this may lead to are as follows: \n",
    "1. Predict whether a patient with glioma is likely to have high-grade vs low-grade glioma\n",
    "2. Research project regarding the causal relationship between EGFR mutation and development of high-grade glioma"
   ]
  },
  {
   "cell_type": "markdown",
   "id": "7f63337e-e939-4723-be9d-9fe7be380ccd",
   "metadata": {},
   "source": [
    "# 3 - References"
   ]
  },
  {
   "cell_type": "markdown",
   "id": "fee75173-6ac7-404c-b683-46ce2fdaa3ab",
   "metadata": {},
   "source": [
    "Carrano, Anna, et al. “Sex-Specific Differences in Glioblastoma.” Cells, vol. 10, no. 7, 2021, p. 1783, https://doi.org/10.3390/cells10071783. \n",
    "\n",
    "Liu, Haijing, et al. “Spectrum of EGFR Aberrations and Potential Clinical Implications: Insights from Integrative Pan‐cancer Analysis.” Cancer Communications, vol. 40, no. 1, 2020, pp. 43–59, https://doi.org/10.1002/cac2.12005. \n",
    "\n",
    "“Release Notice - Canadian Cancer Statistics 2021.” Health Promotion and Chronic Disease Prevention in Canada, vol. 41, no. 11, 2021, pp. 399–399, https://doi.org/10.24095/hpcdp.41.11.09. \n",
    "\n",
    "Xu, Hongsheng, et al. “Epidermal Growth Factor Receptor in Glioblastoma.” Oncology Letters, vol. 14, no. 1, 2017, pp. 512–516, https://doi.org/10.3892/ol.2017.6221. \n"
   ]
  }
 ],
 "metadata": {
  "kernelspec": {
   "display_name": "R",
   "language": "R",
   "name": "ir"
  },
  "language_info": {
   "codemirror_mode": "r",
   "file_extension": ".r",
   "mimetype": "text/x-r-source",
   "name": "R",
   "pygments_lexer": "r",
   "version": "4.2.3"
  }
 },
 "nbformat": 4,
 "nbformat_minor": 5
}
